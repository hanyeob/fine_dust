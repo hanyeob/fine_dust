{
  "nbformat": 4,
  "nbformat_minor": 0,
  "metadata": {
    "kernelspec": {
      "display_name": "Python 3",
      "language": "python",
      "name": "python3"
    },
    "language_info": {
      "codemirror_mode": {
        "name": "ipython",
        "version": 3
      },
      "file_extension": ".py",
      "mimetype": "text/x-python",
      "name": "python",
      "nbconvert_exporter": "python",
      "pygments_lexer": "ipython3",
      "version": "3.8.7"
    },
    "colab": {
      "name": "make scaled csv file.ipynb",
      "provenance": [],
      "toc_visible": true,
      "include_colab_link": true
    }
  },
  "cells": [
    {
      "cell_type": "markdown",
      "metadata": {
        "id": "view-in-github",
        "colab_type": "text"
      },
      "source": [
        "<a href=\"https://colab.research.google.com/github/hanyeob/fine_dust/blob/merged-scaling/make_scaled_csv_file(%ED%86%B5%ED%95%A9%EC%8A%A4%EC%BC%80%EC%9D%BC%EB%A7%81).ipynb\" target=\"_parent\"><img src=\"https://colab.research.google.com/assets/colab-badge.svg\" alt=\"Open In Colab\"/></a>"
      ]
    },
    {
      "cell_type": "markdown",
      "metadata": {
        "id": "MGInWe8Dc4kN"
      },
      "source": [
        "## 데이터 불러오기"
      ]
    },
    {
      "cell_type": "code",
      "metadata": {
        "id": "YAfx9_W4c4kU"
      },
      "source": [
        "import numpy as np\n",
        "import pandas as pd"
      ],
      "execution_count": null,
      "outputs": []
    },
    {
      "cell_type": "code",
      "metadata": {
        "id": "ESSXqWJ91Zl_"
      },
      "source": [
        "classlist = ['isc_2_1','isc_3_1','isc_3_3', # 0, 1, 2\r\n",
        "             'nsc_1_1','nsc_1_2','nsc_2_5', # 3, 4, 5 \r\n",
        "             'sdc_1_1','sdc_2_1',           # 6, 7\r\n",
        "             'sic_2_6','sic_4_2']           # 8, 9\r\n",
        "# ----------------------- 데이터 선택------------------------------\r\n",
        "NUMBER = 9;\r\n",
        "# ----------------------- 데이터 선택------------------------------\r\n",
        "\r\n",
        "choosefile = classlist[NUMBER]\r\n",
        "data_address = 'https://raw.githubusercontent.com/hanyeob/fine_dust/master/csv%20files/' + choosefile +\".csv\""
      ],
      "execution_count": null,
      "outputs": []
    },
    {
      "cell_type": "code",
      "metadata": {
        "colab": {
          "base_uri": "https://localhost:8080/",
          "height": 395
        },
        "id": "hQ7J8JEH1ZmA",
        "outputId": "47167d55-8776-4592-e5b2-e41cc2672fd8"
      },
      "source": [
        "dataset = pd.read_csv(data_address)\r\n",
        "dataset[0:5]"
      ],
      "execution_count": null,
      "outputs": [
        {
          "output_type": "execute_result",
          "data": {
            "text/html": [
              "<div>\n",
              "<style scoped>\n",
              "    .dataframe tbody tr th:only-of-type {\n",
              "        vertical-align: middle;\n",
              "    }\n",
              "\n",
              "    .dataframe tbody tr th {\n",
              "        vertical-align: top;\n",
              "    }\n",
              "\n",
              "    .dataframe thead th {\n",
              "        text-align: right;\n",
              "    }\n",
              "</style>\n",
              "<table border=\"1\" class=\"dataframe\">\n",
              "  <thead>\n",
              "    <tr style=\"text-align: right;\">\n",
              "      <th></th>\n",
              "      <th>tt</th>\n",
              "      <th>0.3_outdoor</th>\n",
              "      <th>0.5_outdoor</th>\n",
              "      <th>1.0_outdoor</th>\n",
              "      <th>3.0_outdoor</th>\n",
              "      <th>5.0_outdoor</th>\n",
              "      <th>10.0_outdoor</th>\n",
              "      <th>0.3_classroom</th>\n",
              "      <th>0.5_classroom</th>\n",
              "      <th>1.0_classroom</th>\n",
              "      <th>3.0_classroom</th>\n",
              "      <th>5.0_classroom</th>\n",
              "      <th>10.0_classroom</th>\n",
              "      <th>temp_outdoor</th>\n",
              "      <th>RH_outdoor</th>\n",
              "      <th>AH_outside</th>\n",
              "      <th>CO2_outdoor</th>\n",
              "      <th>temp_classroom</th>\n",
              "      <th>RH_classroom</th>\n",
              "      <th>AH_classroom</th>\n",
              "      <th>CO2_classroom</th>\n",
              "      <th>ACH</th>\n",
              "      <th>temp_meteo_425</th>\n",
              "      <th>RH_meteo_425</th>\n",
              "      <th>WD_meteo_425</th>\n",
              "      <th>WS_meteo_425</th>\n",
              "      <th>temp_meteo_889</th>\n",
              "      <th>RH_meteo_889</th>\n",
              "      <th>WD_meteo_889</th>\n",
              "      <th>WS_meteo_889</th>\n",
              "      <th>PM10_air_outdoor</th>\n",
              "      <th>PM2.5_air_outdoor</th>\n",
              "      <th>temp_air_outdoor</th>\n",
              "      <th>RH_air_outdoor</th>\n",
              "      <th>AH_air_outdoor</th>\n",
              "      <th>CO2_air_outdoor</th>\n",
              "      <th>VOCS_air_outdoor</th>\n",
              "      <th>Noise_air_outdoor</th>\n",
              "      <th>PM10_air_classroom</th>\n",
              "      <th>PM2.5_air_classroom</th>\n",
              "      <th>temp_air_classroom</th>\n",
              "      <th>RH_air_classroom</th>\n",
              "      <th>AH_air_classroom</th>\n",
              "      <th>CO2_air_classroom</th>\n",
              "      <th>VOCS_air_classroom</th>\n",
              "      <th>Noise_air_classroom</th>\n",
              "      <th>ΔT</th>\n",
              "    </tr>\n",
              "  </thead>\n",
              "  <tbody>\n",
              "    <tr>\n",
              "      <th>0</th>\n",
              "      <td>9-12-2019 17:21:58</td>\n",
              "      <td>370382300</td>\n",
              "      <td>67033920</td>\n",
              "      <td>3442050</td>\n",
              "      <td>163958</td>\n",
              "      <td>70318</td>\n",
              "      <td>7420</td>\n",
              "      <td>214670300</td>\n",
              "      <td>36660780</td>\n",
              "      <td>2059364</td>\n",
              "      <td>109541</td>\n",
              "      <td>63251</td>\n",
              "      <td>14841</td>\n",
              "      <td>14.0</td>\n",
              "      <td>36</td>\n",
              "      <td>NaN</td>\n",
              "      <td>673</td>\n",
              "      <td>22.0</td>\n",
              "      <td>21</td>\n",
              "      <td>NaN</td>\n",
              "      <td>572</td>\n",
              "      <td>NaN</td>\n",
              "      <td>6.2</td>\n",
              "      <td>62.3</td>\n",
              "      <td>137.4</td>\n",
              "      <td>1.2</td>\n",
              "      <td>7.1</td>\n",
              "      <td>56.7</td>\n",
              "      <td>93.2</td>\n",
              "      <td>1.6</td>\n",
              "      <td>NaN</td>\n",
              "      <td>NaN</td>\n",
              "      <td>NaN</td>\n",
              "      <td>NaN</td>\n",
              "      <td>NaN</td>\n",
              "      <td>NaN</td>\n",
              "      <td>NaN</td>\n",
              "      <td>NaN</td>\n",
              "      <td>NaN</td>\n",
              "      <td>NaN</td>\n",
              "      <td>NaN</td>\n",
              "      <td>NaN</td>\n",
              "      <td>NaN</td>\n",
              "      <td>NaN</td>\n",
              "      <td>NaN</td>\n",
              "      <td>NaN</td>\n",
              "      <td>NaN</td>\n",
              "    </tr>\n",
              "    <tr>\n",
              "      <th>1</th>\n",
              "      <td>9-12-2019 17:22:58</td>\n",
              "      <td>374975600</td>\n",
              "      <td>68299650</td>\n",
              "      <td>3689046</td>\n",
              "      <td>176325</td>\n",
              "      <td>82686</td>\n",
              "      <td>4594</td>\n",
              "      <td>213868600</td>\n",
              "      <td>36736400</td>\n",
              "      <td>2059717</td>\n",
              "      <td>124735</td>\n",
              "      <td>51590</td>\n",
              "      <td>10247</td>\n",
              "      <td>13.7</td>\n",
              "      <td>35</td>\n",
              "      <td>NaN</td>\n",
              "      <td>667</td>\n",
              "      <td>22.0</td>\n",
              "      <td>21</td>\n",
              "      <td>NaN</td>\n",
              "      <td>571</td>\n",
              "      <td>NaN</td>\n",
              "      <td>6.4</td>\n",
              "      <td>62.3</td>\n",
              "      <td>170.4</td>\n",
              "      <td>2.8</td>\n",
              "      <td>7.2</td>\n",
              "      <td>56.5</td>\n",
              "      <td>66.2</td>\n",
              "      <td>1.1</td>\n",
              "      <td>NaN</td>\n",
              "      <td>NaN</td>\n",
              "      <td>NaN</td>\n",
              "      <td>NaN</td>\n",
              "      <td>NaN</td>\n",
              "      <td>NaN</td>\n",
              "      <td>NaN</td>\n",
              "      <td>NaN</td>\n",
              "      <td>NaN</td>\n",
              "      <td>NaN</td>\n",
              "      <td>NaN</td>\n",
              "      <td>NaN</td>\n",
              "      <td>NaN</td>\n",
              "      <td>NaN</td>\n",
              "      <td>NaN</td>\n",
              "      <td>NaN</td>\n",
              "      <td>NaN</td>\n",
              "    </tr>\n",
              "    <tr>\n",
              "      <th>2</th>\n",
              "      <td>9-12-2019 17:23:58</td>\n",
              "      <td>371719500</td>\n",
              "      <td>67523320</td>\n",
              "      <td>3385866</td>\n",
              "      <td>152297</td>\n",
              "      <td>66431</td>\n",
              "      <td>8481</td>\n",
              "      <td>212717300</td>\n",
              "      <td>36209540</td>\n",
              "      <td>2102827</td>\n",
              "      <td>112014</td>\n",
              "      <td>54417</td>\n",
              "      <td>9894</td>\n",
              "      <td>13.3</td>\n",
              "      <td>35</td>\n",
              "      <td>NaN</td>\n",
              "      <td>649</td>\n",
              "      <td>22.0</td>\n",
              "      <td>21</td>\n",
              "      <td>NaN</td>\n",
              "      <td>570</td>\n",
              "      <td>NaN</td>\n",
              "      <td>6.4</td>\n",
              "      <td>62.2</td>\n",
              "      <td>163.2</td>\n",
              "      <td>1.1</td>\n",
              "      <td>7.2</td>\n",
              "      <td>56.1</td>\n",
              "      <td>77.5</td>\n",
              "      <td>0.6</td>\n",
              "      <td>NaN</td>\n",
              "      <td>NaN</td>\n",
              "      <td>NaN</td>\n",
              "      <td>NaN</td>\n",
              "      <td>NaN</td>\n",
              "      <td>NaN</td>\n",
              "      <td>NaN</td>\n",
              "      <td>NaN</td>\n",
              "      <td>NaN</td>\n",
              "      <td>NaN</td>\n",
              "      <td>NaN</td>\n",
              "      <td>NaN</td>\n",
              "      <td>NaN</td>\n",
              "      <td>NaN</td>\n",
              "      <td>NaN</td>\n",
              "      <td>NaN</td>\n",
              "      <td>NaN</td>\n",
              "    </tr>\n",
              "    <tr>\n",
              "      <th>3</th>\n",
              "      <td>9-12-2019 17:24:58</td>\n",
              "      <td>370673200</td>\n",
              "      <td>67153360</td>\n",
              "      <td>3345936</td>\n",
              "      <td>145230</td>\n",
              "      <td>75265</td>\n",
              "      <td>9894</td>\n",
              "      <td>213726200</td>\n",
              "      <td>35985870</td>\n",
              "      <td>2047350</td>\n",
              "      <td>113781</td>\n",
              "      <td>57597</td>\n",
              "      <td>6360</td>\n",
              "      <td>12.5</td>\n",
              "      <td>35</td>\n",
              "      <td>NaN</td>\n",
              "      <td>572</td>\n",
              "      <td>21.9</td>\n",
              "      <td>21</td>\n",
              "      <td>NaN</td>\n",
              "      <td>568</td>\n",
              "      <td>NaN</td>\n",
              "      <td>6.4</td>\n",
              "      <td>62.2</td>\n",
              "      <td>160.0</td>\n",
              "      <td>1.3</td>\n",
              "      <td>7.1</td>\n",
              "      <td>56.3</td>\n",
              "      <td>73.4</td>\n",
              "      <td>0.9</td>\n",
              "      <td>NaN</td>\n",
              "      <td>NaN</td>\n",
              "      <td>NaN</td>\n",
              "      <td>NaN</td>\n",
              "      <td>NaN</td>\n",
              "      <td>NaN</td>\n",
              "      <td>NaN</td>\n",
              "      <td>NaN</td>\n",
              "      <td>NaN</td>\n",
              "      <td>NaN</td>\n",
              "      <td>NaN</td>\n",
              "      <td>NaN</td>\n",
              "      <td>NaN</td>\n",
              "      <td>NaN</td>\n",
              "      <td>NaN</td>\n",
              "      <td>NaN</td>\n",
              "      <td>NaN</td>\n",
              "    </tr>\n",
              "    <tr>\n",
              "      <th>4</th>\n",
              "      <td>9-12-2019 17:25:58</td>\n",
              "      <td>366765000</td>\n",
              "      <td>66251590</td>\n",
              "      <td>3392933</td>\n",
              "      <td>190813</td>\n",
              "      <td>72792</td>\n",
              "      <td>9187</td>\n",
              "      <td>208327600</td>\n",
              "      <td>35034630</td>\n",
              "      <td>2043463</td>\n",
              "      <td>133922</td>\n",
              "      <td>71025</td>\n",
              "      <td>15194</td>\n",
              "      <td>11.7</td>\n",
              "      <td>35</td>\n",
              "      <td>NaN</td>\n",
              "      <td>538</td>\n",
              "      <td>21.9</td>\n",
              "      <td>21</td>\n",
              "      <td>NaN</td>\n",
              "      <td>567</td>\n",
              "      <td>NaN</td>\n",
              "      <td>6.5</td>\n",
              "      <td>61.9</td>\n",
              "      <td>158.3</td>\n",
              "      <td>2.0</td>\n",
              "      <td>7.1</td>\n",
              "      <td>56.7</td>\n",
              "      <td>82.6</td>\n",
              "      <td>1.3</td>\n",
              "      <td>NaN</td>\n",
              "      <td>NaN</td>\n",
              "      <td>NaN</td>\n",
              "      <td>NaN</td>\n",
              "      <td>NaN</td>\n",
              "      <td>NaN</td>\n",
              "      <td>NaN</td>\n",
              "      <td>NaN</td>\n",
              "      <td>NaN</td>\n",
              "      <td>NaN</td>\n",
              "      <td>NaN</td>\n",
              "      <td>NaN</td>\n",
              "      <td>NaN</td>\n",
              "      <td>NaN</td>\n",
              "      <td>NaN</td>\n",
              "      <td>NaN</td>\n",
              "      <td>NaN</td>\n",
              "    </tr>\n",
              "  </tbody>\n",
              "</table>\n",
              "</div>"
            ],
            "text/plain": [
              "                   tt  0.3_outdoor  ...  Noise_air_classroom  ΔT\n",
              "0  9-12-2019 17:21:58    370382300  ...                  NaN NaN\n",
              "1  9-12-2019 17:22:58    374975600  ...                  NaN NaN\n",
              "2  9-12-2019 17:23:58    371719500  ...                  NaN NaN\n",
              "3  9-12-2019 17:24:58    370673200  ...                  NaN NaN\n",
              "4  9-12-2019 17:25:58    366765000  ...                  NaN NaN\n",
              "\n",
              "[5 rows x 47 columns]"
            ]
          },
          "metadata": {
            "tags": []
          },
          "execution_count": 222
        }
      ]
    },
    {
      "cell_type": "code",
      "metadata": {
        "colab": {
          "base_uri": "https://localhost:8080/"
        },
        "id": "YgUncYild6PS",
        "outputId": "0ad32244-0e99-4f46-8956-85a219ef8bd2"
      },
      "source": [
        "dataset.columns"
      ],
      "execution_count": null,
      "outputs": [
        {
          "output_type": "execute_result",
          "data": {
            "text/plain": [
              "Index(['tt', '0.3_outdoor', '0.5_outdoor', '1.0_outdoor', '3.0_outdoor',\n",
              "       '5.0_outdoor', '10.0_outdoor', '0.3_classroom', '0.5_classroom',\n",
              "       '1.0_classroom', '3.0_classroom', '5.0_classroom', '10.0_classroom',\n",
              "       'temp_outdoor', 'RH_outdoor', 'AH_outside', 'CO2_outdoor',\n",
              "       'temp_classroom', 'RH_classroom', 'AH_classroom', 'CO2_classroom',\n",
              "       'ACH', 'temp_meteo_425', 'RH_meteo_425', 'WD_meteo_425', 'WS_meteo_425',\n",
              "       'temp_meteo_889', 'RH_meteo_889', 'WD_meteo_889', 'WS_meteo_889',\n",
              "       'PM10_air_outdoor', 'PM2.5_air_outdoor', 'temp_air_outdoor',\n",
              "       'RH_air_outdoor', 'AH_air_outdoor', 'CO2_air_outdoor',\n",
              "       'VOCS_air_outdoor', 'Noise_air_outdoor', 'PM10_air_classroom',\n",
              "       'PM2.5_air_classroom', 'temp_air_classroom', 'RH_air_classroom',\n",
              "       'AH_air_classroom', 'CO2_air_classroom', 'VOCS_air_classroom',\n",
              "       'Noise_air_classroom', 'ΔT'],\n",
              "      dtype='object')"
            ]
          },
          "metadata": {
            "tags": []
          },
          "execution_count": 223
        }
      ]
    },
    {
      "cell_type": "code",
      "metadata": {
        "id": "x1OaePqoc4kV"
      },
      "source": [
        "dataset = dataset[['tt', '0.3_outdoor', '0.5_outdoor', '1.0_outdoor', '3.0_outdoor',\n",
        "       '5.0_outdoor', '10.0_outdoor', '0.3_classroom', '0.5_classroom',\n",
        "       '1.0_classroom', '3.0_classroom', '5.0_classroom', '10.0_classroom',\n",
        "       'CO2_outdoor','CO2_classroom']]"
      ],
      "execution_count": null,
      "outputs": []
    },
    {
      "cell_type": "code",
      "metadata": {
        "id": "guljTfe2c4kV"
      },
      "source": [
        "dataset['tt'] = pd.to_datetime(dataset['tt'], format=\"%d-%m-%Y %H:%M:%S\")"
      ],
      "execution_count": null,
      "outputs": []
    },
    {
      "cell_type": "markdown",
      "metadata": {
        "id": "vCsjE7NBmFxP"
      },
      "source": [
        "## NuN값 처리"
      ]
    },
    {
      "cell_type": "code",
      "metadata": {
        "colab": {
          "base_uri": "https://localhost:8080/"
        },
        "id": "unJ57Ehsc4kV",
        "outputId": "11b196b0-dd51-4d69-e5fa-5414c1344d05"
      },
      "source": [
        "dataset.isnull().sum()"
      ],
      "execution_count": null,
      "outputs": [
        {
          "output_type": "execute_result",
          "data": {
            "text/plain": [
              "tt                0\n",
              "0.3_outdoor       0\n",
              "0.5_outdoor       0\n",
              "1.0_outdoor       0\n",
              "3.0_outdoor       0\n",
              "5.0_outdoor       0\n",
              "10.0_outdoor      0\n",
              "0.3_classroom     0\n",
              "0.5_classroom     0\n",
              "1.0_classroom     0\n",
              "3.0_classroom     0\n",
              "5.0_classroom     0\n",
              "10.0_classroom    0\n",
              "CO2_outdoor       0\n",
              "CO2_classroom     0\n",
              "dtype: int64"
            ]
          },
          "metadata": {
            "tags": []
          },
          "execution_count": 226
        }
      ]
    },
    {
      "cell_type": "code",
      "metadata": {
        "id": "fqziFwM7c4kX"
      },
      "source": [
        "for i in reversed(range(0,len(dataset))): \n",
        "    if(np.isnan(dataset.loc[i,'CO2_classroom'])):\n",
        "      if(i+1 < len(dataset)):\n",
        "        dataset.loc[i,'CO2_classroom'] = dataset.loc[i+1,'CO2_classroom']\n",
        "\n",
        "for i in range(0,len(dataset)): \n",
        "    if(np.isnan(dataset.loc[i,'CO2_classroom'])):\n",
        "      if(i > 0):\n",
        "        dataset.loc[i,'CO2_classroom'] = dataset.loc[i-1,'CO2_classroom']"
      ],
      "execution_count": null,
      "outputs": []
    },
    {
      "cell_type": "markdown",
      "metadata": {
        "id": "5o-HGgl_c4kX"
      },
      "source": [
        "## 미세먼지, 초미세먼지 단위 맞춤 (Scaling)"
      ]
    },
    {
      "cell_type": "code",
      "metadata": {
        "id": "sxbGr4Ooc4kX"
      },
      "source": [
        "dataset['0.3_outdoor_scaled'] = dataset['0.3_outdoor'] * 0.3 ** 3\n",
        "dataset['0.5_outdoor_scaled'] = dataset['0.5_outdoor'] * 0.5 ** 3\n",
        "dataset['1.0_outdoor_scaled'] = dataset['1.0_outdoor'] * 1.0 ** 3\n",
        "dataset['3.0_outdoor_scaled'] = dataset['3.0_outdoor'] * 3.0 ** 3\n",
        "dataset['5.0_outdoor_scaled'] = dataset['5.0_outdoor'] * 5.0 ** 3\n",
        "dataset['10.0_outdoor_scaled'] = dataset['10.0_outdoor'] * 10.0 ** 3\n",
        "\n",
        "dataset['0.3_classroom_scaled'] = dataset['0.3_classroom'] * 0.3 ** 3\n",
        "dataset['0.5_classroom_scaled'] = dataset['0.5_classroom'] * 0.5 ** 3\n",
        "dataset['1.0_classroom_scaled'] = dataset['1.0_classroom'] * 1.0 ** 3\n",
        "dataset['3.0_classroom_scaled'] = dataset['3.0_classroom'] * 3.0 ** 3\n",
        "dataset['5.0_classroom_scaled'] = dataset['5.0_classroom'] * 5.0 ** 3\n",
        "dataset['10.0_classroom_scaled'] = dataset['10.0_classroom'] * 10.0 ** 3"
      ],
      "execution_count": null,
      "outputs": []
    },
    {
      "cell_type": "markdown",
      "metadata": {
        "id": "_rlb8ilic4kY"
      },
      "source": [
        "## 미세먼지/초미세먼지(내부,외부) 데이터 통합"
      ]
    },
    {
      "cell_type": "code",
      "metadata": {
        "id": "v2PQ5vV4c4kY"
      },
      "source": [
        "dataset['PM2.5_outdoor'] = np.sum(dataset.loc[:,'0.3_outdoor_scaled':'1.0_outdoor_scaled'], axis=1)\n",
        "dataset['PM10_outdoor'] =  np.sum(dataset.loc[:,'3.0_outdoor_scaled':'10.0_outdoor_scaled'], axis=1)\n",
        "\n",
        "dataset['PM2.5_classroom'] = np.sum( dataset.loc[:,'0.3_classroom_scaled':'1.0_classroom_scaled'], axis=1)\n",
        "dataset['PM10_classroom'] = np.sum( dataset.loc[:,'3.0_classroom_scaled':'10.0_classroom_scaled'], axis=1)"
      ],
      "execution_count": null,
      "outputs": []
    },
    {
      "cell_type": "code",
      "metadata": {
        "scrolled": false,
        "id": "N6sfE-BEc4kY"
      },
      "source": [
        "# CO2_fig = go.Figure()\n",
        "# CO2_fig.add_trace(go.Scatter(x=dataset['tt'], y=dataset['CO2_outdoor'],mode='lines',name='CO2_outdoor'))\n",
        "# CO2_fig.add_trace(go.Scatter(x=dataset['tt'], y=dataset['CO2_classroom'],mode='lines',name='CO2_classroom'))"
      ],
      "execution_count": null,
      "outputs": []
    },
    {
      "cell_type": "code",
      "metadata": {
        "id": "qdLa_tVlc4kZ"
      },
      "source": [
        "# PM_fig = go.Figure()\n",
        "# from plotly.subplots import make_subplots\n",
        "# PM_fig = make_subplots(specs=[[{\"secondary_y\": True}]])\n",
        "\n",
        "# PM_fig.add_trace(go.Scatter(x=dataset['tt'], y=dataset['PM2.5_outdoor'],line=dict(color='red'), mode='lines',name='PM2.5_outdoors'))\n",
        "# PM_fig.add_trace(go.Scatter(x=dataset['tt'], y=dataset['PM10_outdoor'],line=dict(color='blue'),mode='lines',name='PM10_outdoors'),secondary_y=True,)\n",
        "# PM_fig.add_trace(go.Scatter(x=dataset['tt'], y=dataset['PM2.5_classroom'],line=dict(color='orange'),mode='lines',name='PM2.5_classroom'))\n",
        "# PM_fig.add_trace(go.Scatter(x=dataset['tt'], y=dataset['PM10_classroom'],line=dict(color='skyblue'),mode='lines',name='PM10_classroom'),secondary_y=True,)\n",
        "\n",
        "# PM_fig.update_yaxes(title_text=\"PM 2.5\", secondary_y=False)\n",
        "# PM_fig.update_yaxes(title_text=\"PM10\", secondary_y=True)"
      ],
      "execution_count": null,
      "outputs": []
    },
    {
      "cell_type": "markdown",
      "metadata": {
        "id": "BKk1YXyPc4ka"
      },
      "source": [
        "## 교실 내 변화량 column생성"
      ]
    },
    {
      "cell_type": "code",
      "metadata": {
        "id": "WsyB-VEbc4ka"
      },
      "source": [
        "for i in range(1,len(dataset)) :\n",
        "    dataset.loc[i,'PM2.5_classroom_change'] = dataset.loc[i,'PM2.5_classroom'] - dataset.loc[i-1,'PM2.5_classroom']\n",
        "    dataset.loc[i,'PM10_classroom_change'] = dataset.loc[i,'PM10_classroom'] - dataset.loc[i-1,'PM10_classroom']\n",
        "    dataset.loc[i,'CO2_classroom_change'] = dataset.loc[i,'CO2_classroom'] - dataset.loc[i-1,'CO2_classroom']\n",
        "\n",
        "dataset.loc[0,'PM2.5_classroom_change'] =dataset.loc[1,'PM2.5_classroom_change']\n",
        "dataset.loc[0,'PM10_classroom_change']  =dataset.loc[1,'PM10_classroom_change'] \n",
        "dataset.loc[0,'CO2_classroom_change']   =dataset.loc[1,'CO2_classroom_change']  "
      ],
      "execution_count": null,
      "outputs": []
    },
    {
      "cell_type": "code",
      "metadata": {
        "scrolled": false,
        "id": "SAAhf6c1c4kb"
      },
      "source": [
        "# CO2_fig = go.Figure()\n",
        "# CO2_fig.add_trace(go.Scatter(x=dataset['tt'], y=dataset['CO2_outdoor'],mode='lines',name='CO2_outdoor'))\n",
        "# CO2_fig.add_trace(go.Scatter(x=dataset['tt'], y=dataset['CO2_classroom'],mode='lines',name='CO2_classroom'))"
      ],
      "execution_count": null,
      "outputs": []
    },
    {
      "cell_type": "markdown",
      "metadata": {
        "id": "b7iD6MAi2YIO"
      },
      "source": [
        "# 스케일링 (일반화)\n"
      ]
    },
    {
      "cell_type": "code",
      "metadata": {
        "id": "zlx-E3IG2YIP",
        "colab": {
          "base_uri": "https://localhost:8080/",
          "height": 415
        },
        "outputId": "881d9a63-aa01-4e7d-8c6f-ad53c209b21d"
      },
      "source": [
        "from sklearn.preprocessing import StandardScaler\n",
        "scaler = StandardScaler()\n",
        "\n",
        "scaled_data = scaler.fit_transform(dataset[['CO2_classroom_change','PM2.5_classroom_change','PM10_classroom_change']])\n",
        "scaled_data = pd.DataFrame(data=scaled_data,columns=['CO2_classroom_change','PM2.5_classroom_change','PM10_classroom_change'])\n",
        "scaled_data.insert(loc=0,column='tt',value=dataset['tt'])\n",
        "scaled_data"
      ],
      "execution_count": null,
      "outputs": [
        {
          "output_type": "execute_result",
          "data": {
            "text/html": [
              "<div>\n",
              "<style scoped>\n",
              "    .dataframe tbody tr th:only-of-type {\n",
              "        vertical-align: middle;\n",
              "    }\n",
              "\n",
              "    .dataframe tbody tr th {\n",
              "        vertical-align: top;\n",
              "    }\n",
              "\n",
              "    .dataframe thead th {\n",
              "        text-align: right;\n",
              "    }\n",
              "</style>\n",
              "<table border=\"1\" class=\"dataframe\">\n",
              "  <thead>\n",
              "    <tr style=\"text-align: right;\">\n",
              "      <th></th>\n",
              "      <th>tt</th>\n",
              "      <th>CO2_classroom_change</th>\n",
              "      <th>PM2.5_classroom_change</th>\n",
              "      <th>PM10_classroom_change</th>\n",
              "    </tr>\n",
              "  </thead>\n",
              "  <tbody>\n",
              "    <tr>\n",
              "      <th>0</th>\n",
              "      <td>2019-12-09 17:21:58</td>\n",
              "      <td>-0.014231</td>\n",
              "      <td>-0.017581</td>\n",
              "      <td>-0.794181</td>\n",
              "    </tr>\n",
              "    <tr>\n",
              "      <th>1</th>\n",
              "      <td>2019-12-09 17:22:58</td>\n",
              "      <td>-0.014231</td>\n",
              "      <td>-0.017581</td>\n",
              "      <td>-0.794181</td>\n",
              "    </tr>\n",
              "    <tr>\n",
              "      <th>2</th>\n",
              "      <td>2019-12-09 17:23:58</td>\n",
              "      <td>-0.014231</td>\n",
              "      <td>-0.094764</td>\n",
              "      <td>-0.048080</td>\n",
              "    </tr>\n",
              "    <tr>\n",
              "      <th>3</th>\n",
              "      <td>2019-12-09 17:24:58</td>\n",
              "      <td>-0.028180</td>\n",
              "      <td>-0.099106</td>\n",
              "      <td>-0.434727</td>\n",
              "    </tr>\n",
              "    <tr>\n",
              "      <th>4</th>\n",
              "      <td>2019-12-09 17:25:58</td>\n",
              "      <td>-0.014231</td>\n",
              "      <td>-0.489424</td>\n",
              "      <td>1.557173</td>\n",
              "    </tr>\n",
              "    <tr>\n",
              "      <th>...</th>\n",
              "      <td>...</td>\n",
              "      <td>...</td>\n",
              "      <td>...</td>\n",
              "      <td>...</td>\n",
              "    </tr>\n",
              "    <tr>\n",
              "      <th>4093</th>\n",
              "      <td>2019-12-12 13:34:59</td>\n",
              "      <td>-0.042129</td>\n",
              "      <td>-0.134481</td>\n",
              "      <td>0.009822</td>\n",
              "    </tr>\n",
              "    <tr>\n",
              "      <th>4094</th>\n",
              "      <td>2019-12-12 13:35:59</td>\n",
              "      <td>-0.097924</td>\n",
              "      <td>-0.334531</td>\n",
              "      <td>-0.092669</td>\n",
              "    </tr>\n",
              "    <tr>\n",
              "      <th>4095</th>\n",
              "      <td>2019-12-12 13:36:59</td>\n",
              "      <td>-0.125822</td>\n",
              "      <td>-0.371687</td>\n",
              "      <td>-0.577431</td>\n",
              "    </tr>\n",
              "    <tr>\n",
              "      <th>4096</th>\n",
              "      <td>2019-12-12 13:37:59</td>\n",
              "      <td>-0.097924</td>\n",
              "      <td>-0.162493</td>\n",
              "      <td>0.060514</td>\n",
              "    </tr>\n",
              "    <tr>\n",
              "      <th>4097</th>\n",
              "      <td>2019-12-12 13:38:59</td>\n",
              "      <td>-0.125822</td>\n",
              "      <td>-0.070617</td>\n",
              "      <td>0.622568</td>\n",
              "    </tr>\n",
              "  </tbody>\n",
              "</table>\n",
              "<p>4098 rows × 4 columns</p>\n",
              "</div>"
            ],
            "text/plain": [
              "                      tt  ...  PM10_classroom_change\n",
              "0    2019-12-09 17:21:58  ...              -0.794181\n",
              "1    2019-12-09 17:22:58  ...              -0.794181\n",
              "2    2019-12-09 17:23:58  ...              -0.048080\n",
              "3    2019-12-09 17:24:58  ...              -0.434727\n",
              "4    2019-12-09 17:25:58  ...               1.557173\n",
              "...                  ...  ...                    ...\n",
              "4093 2019-12-12 13:34:59  ...               0.009822\n",
              "4094 2019-12-12 13:35:59  ...              -0.092669\n",
              "4095 2019-12-12 13:36:59  ...              -0.577431\n",
              "4096 2019-12-12 13:37:59  ...               0.060514\n",
              "4097 2019-12-12 13:38:59  ...               0.622568\n",
              "\n",
              "[4098 rows x 4 columns]"
            ]
          },
          "metadata": {
            "tags": []
          },
          "execution_count": 234
        }
      ]
    },
    {
      "cell_type": "code",
      "metadata": {
        "colab": {
          "base_uri": "https://localhost:8080/"
        },
        "id": "kNUQx3NkRGdk",
        "outputId": "cd9ed769-c238-41b9-e29a-f3fc10abdee6"
      },
      "source": [
        "CO2_mean = np.mean(pd.concat([dataset['CO2_outdoor'],dataset['CO2_classroom']]))\r\n",
        "CO2_std = np.std(pd.concat([dataset['CO2_outdoor'],dataset['CO2_classroom']]))\r\n",
        "PM25_mean = np.mean(pd.concat([dataset['PM2.5_outdoor'],dataset['PM2.5_classroom']]))\r\n",
        "PM25_std = np.std(pd.concat([dataset['PM2.5_outdoor'],dataset['PM2.5_classroom']]))\r\n",
        "PM10_mean = np.mean(pd.concat([dataset['PM10_outdoor'],dataset['PM10_classroom']]))\r\n",
        "PM10_std = np.std(pd.concat([dataset['PM10_outdoor'],dataset['PM10_classroom']]))\r\n",
        "print(CO2_mean,CO2_std,PM25_mean,PM25_std,PM10_mean,PM10_std, sep ='\\n')"
      ],
      "execution_count": null,
      "outputs": [
        {
          "output_type": "stream",
          "text": [
            "622.9213030746706\n",
            "372.5139474888872\n",
            "15877648.532468928\n",
            "16523436.237171357\n",
            "19149736.411298193\n",
            "31320775.293031055\n"
          ],
          "name": "stdout"
        }
      ]
    },
    {
      "cell_type": "code",
      "metadata": {
        "id": "FW4NGtkTSzMo"
      },
      "source": [
        "scaled_data['CO2_outdoor']    = (dataset['CO2_outdoor'] - CO2_mean) / CO2_std\r\n",
        "scaled_data['PM2.5_outdoor']  = (dataset['PM2.5_outdoor'] - PM25_mean) / PM25_std\r\n",
        "scaled_data['PM10_outdoor']   = (dataset['PM10_outdoor'] - PM10_mean) / PM10_std\r\n",
        "scaled_data['CO2_classroom']  = (dataset['CO2_classroom'] - CO2_mean) / CO2_std\r\n",
        "scaled_data['PM2.5_classroom']= (dataset['PM2.5_classroom'] - PM25_mean) / PM25_std\r\n",
        "scaled_data['PM10_classroom'] = (dataset['PM10_classroom'] - PM10_mean) / PM10_std\r\n",
        "\r\n",
        "scaled_data = scaled_data[['tt', \r\n",
        " 'CO2_outdoor',         'PM2.5_outdoor',         'PM10_outdoor',\r\n",
        " 'CO2_classroom',       'PM2.5_classroom',       'PM10_classroom',\r\n",
        " 'CO2_classroom_change','PM2.5_classroom_change','PM10_classroom_change'\r\n",
        " ]]"
      ],
      "execution_count": null,
      "outputs": []
    },
    {
      "cell_type": "code",
      "metadata": {
        "colab": {
          "base_uri": "https://localhost:8080/",
          "height": 415
        },
        "id": "Y6JjE6bUjpOm",
        "outputId": "0f5e9690-1835-40a6-e4dd-dd7aafe9b318"
      },
      "source": [
        "scaled_data"
      ],
      "execution_count": null,
      "outputs": [
        {
          "output_type": "execute_result",
          "data": {
            "text/html": [
              "<div>\n",
              "<style scoped>\n",
              "    .dataframe tbody tr th:only-of-type {\n",
              "        vertical-align: middle;\n",
              "    }\n",
              "\n",
              "    .dataframe tbody tr th {\n",
              "        vertical-align: top;\n",
              "    }\n",
              "\n",
              "    .dataframe thead th {\n",
              "        text-align: right;\n",
              "    }\n",
              "</style>\n",
              "<table border=\"1\" class=\"dataframe\">\n",
              "  <thead>\n",
              "    <tr style=\"text-align: right;\">\n",
              "      <th></th>\n",
              "      <th>tt</th>\n",
              "      <th>CO2_outdoor</th>\n",
              "      <th>PM2.5_outdoor</th>\n",
              "      <th>PM10_outdoor</th>\n",
              "      <th>CO2_classroom</th>\n",
              "      <th>PM2.5_classroom</th>\n",
              "      <th>PM10_classroom</th>\n",
              "      <th>CO2_classroom_change</th>\n",
              "      <th>PM2.5_classroom_change</th>\n",
              "      <th>PM10_classroom_change</th>\n",
              "    </tr>\n",
              "  </thead>\n",
              "  <tbody>\n",
              "    <tr>\n",
              "      <th>0</th>\n",
              "      <td>2019-12-09 17:21:58</td>\n",
              "      <td>0.134434</td>\n",
              "      <td>0.359729</td>\n",
              "      <td>0.047473</td>\n",
              "      <td>-0.136696</td>\n",
              "      <td>-0.208164</td>\n",
              "      <td>0.209294</td>\n",
              "      <td>-0.014231</td>\n",
              "      <td>-0.017581</td>\n",
              "      <td>-0.794181</td>\n",
              "    </tr>\n",
              "    <tr>\n",
              "      <th>1</th>\n",
              "      <td>2019-12-09 17:22:58</td>\n",
              "      <td>0.118328</td>\n",
              "      <td>0.391758</td>\n",
              "      <td>0.017266</td>\n",
              "      <td>-0.139381</td>\n",
              "      <td>-0.208881</td>\n",
              "      <td>0.029177</td>\n",
              "      <td>-0.014231</td>\n",
              "      <td>-0.017581</td>\n",
              "      <td>-0.794181</td>\n",
              "    </tr>\n",
              "    <tr>\n",
              "      <th>2</th>\n",
              "      <td>2019-12-09 17:23:58</td>\n",
              "      <td>0.070007</td>\n",
              "      <td>0.362216</td>\n",
              "      <td>0.055783</td>\n",
              "      <td>-0.142065</td>\n",
              "      <td>-0.212139</td>\n",
              "      <td>0.018223</td>\n",
              "      <td>-0.014231</td>\n",
              "      <td>-0.094764</td>\n",
              "      <td>-0.048080</td>\n",
              "    </tr>\n",
              "    <tr>\n",
              "      <th>3</th>\n",
              "      <td>2019-12-09 17:24:58</td>\n",
              "      <td>-0.136696</td>\n",
              "      <td>0.355291</td>\n",
              "      <td>0.130061</td>\n",
              "      <td>-0.147434</td>\n",
              "      <td>-0.215540</td>\n",
              "      <td>-0.080395</td>\n",
              "      <td>-0.028180</td>\n",
              "      <td>-0.099106</td>\n",
              "      <td>-0.434727</td>\n",
              "    </tr>\n",
              "    <tr>\n",
              "      <th>4</th>\n",
              "      <td>2019-12-09 17:25:58</td>\n",
              "      <td>-0.227968</td>\n",
              "      <td>0.344928</td>\n",
              "      <td>0.136913</td>\n",
              "      <td>-0.150119</td>\n",
              "      <td>-0.231793</td>\n",
              "      <td>0.272608</td>\n",
              "      <td>-0.014231</td>\n",
              "      <td>-0.489424</td>\n",
              "      <td>1.557173</td>\n",
              "    </tr>\n",
              "    <tr>\n",
              "      <th>...</th>\n",
              "      <td>...</td>\n",
              "      <td>...</td>\n",
              "      <td>...</td>\n",
              "      <td>...</td>\n",
              "      <td>...</td>\n",
              "      <td>...</td>\n",
              "      <td>...</td>\n",
              "      <td>...</td>\n",
              "      <td>...</td>\n",
              "      <td>...</td>\n",
              "    </tr>\n",
              "    <tr>\n",
              "      <th>4093</th>\n",
              "      <td>2019-12-12 13:34:59</td>\n",
              "      <td>-0.437356</td>\n",
              "      <td>-0.697259</td>\n",
              "      <td>-0.322916</td>\n",
              "      <td>0.174701</td>\n",
              "      <td>-0.740177</td>\n",
              "      <td>0.169480</td>\n",
              "      <td>-0.042129</td>\n",
              "      <td>-0.134481</td>\n",
              "      <td>0.009822</td>\n",
              "    </tr>\n",
              "    <tr>\n",
              "      <th>4094</th>\n",
              "      <td>2019-12-12 13:35:59</td>\n",
              "      <td>-0.429303</td>\n",
              "      <td>-0.702589</td>\n",
              "      <td>-0.356757</td>\n",
              "      <td>0.155910</td>\n",
              "      <td>-0.751330</td>\n",
              "      <td>0.148416</td>\n",
              "      <td>-0.097924</td>\n",
              "      <td>-0.334531</td>\n",
              "      <td>-0.092669</td>\n",
              "    </tr>\n",
              "    <tr>\n",
              "      <th>4095</th>\n",
              "      <td>2019-12-12 13:36:59</td>\n",
              "      <td>-0.434672</td>\n",
              "      <td>-0.701170</td>\n",
              "      <td>-0.317906</td>\n",
              "      <td>0.131750</td>\n",
              "      <td>-0.763706</td>\n",
              "      <td>0.017443</td>\n",
              "      <td>-0.125822</td>\n",
              "      <td>-0.371687</td>\n",
              "      <td>-0.577431</td>\n",
              "    </tr>\n",
              "    <tr>\n",
              "      <th>4096</th>\n",
              "      <td>2019-12-12 13:37:59</td>\n",
              "      <td>-0.472254</td>\n",
              "      <td>-0.717380</td>\n",
              "      <td>-0.395645</td>\n",
              "      <td>0.112959</td>\n",
              "      <td>-0.769194</td>\n",
              "      <td>0.031110</td>\n",
              "      <td>-0.097924</td>\n",
              "      <td>-0.162493</td>\n",
              "      <td>0.060514</td>\n",
              "    </tr>\n",
              "    <tr>\n",
              "      <th>4097</th>\n",
              "      <td>2019-12-12 13:38:59</td>\n",
              "      <td>-0.442725</td>\n",
              "      <td>-0.727403</td>\n",
              "      <td>-0.390017</td>\n",
              "      <td>0.088799</td>\n",
              "      <td>-0.771657</td>\n",
              "      <td>0.172211</td>\n",
              "      <td>-0.125822</td>\n",
              "      <td>-0.070617</td>\n",
              "      <td>0.622568</td>\n",
              "    </tr>\n",
              "  </tbody>\n",
              "</table>\n",
              "<p>4098 rows × 10 columns</p>\n",
              "</div>"
            ],
            "text/plain": [
              "                      tt  ...  PM10_classroom_change\n",
              "0    2019-12-09 17:21:58  ...              -0.794181\n",
              "1    2019-12-09 17:22:58  ...              -0.794181\n",
              "2    2019-12-09 17:23:58  ...              -0.048080\n",
              "3    2019-12-09 17:24:58  ...              -0.434727\n",
              "4    2019-12-09 17:25:58  ...               1.557173\n",
              "...                  ...  ...                    ...\n",
              "4093 2019-12-12 13:34:59  ...               0.009822\n",
              "4094 2019-12-12 13:35:59  ...              -0.092669\n",
              "4095 2019-12-12 13:36:59  ...              -0.577431\n",
              "4096 2019-12-12 13:37:59  ...               0.060514\n",
              "4097 2019-12-12 13:38:59  ...               0.622568\n",
              "\n",
              "[4098 rows x 10 columns]"
            ]
          },
          "metadata": {
            "tags": []
          },
          "execution_count": 237
        }
      ]
    },
    {
      "cell_type": "code",
      "metadata": {
        "colab": {
          "base_uri": "https://localhost:8080/"
        },
        "id": "VKg2TmgUl6O8",
        "outputId": "c447a3a7-1104-4cb2-ae04-f963b618e471"
      },
      "source": [
        "scaled_data.isnull().sum()"
      ],
      "execution_count": null,
      "outputs": [
        {
          "output_type": "execute_result",
          "data": {
            "text/plain": [
              "tt                        0\n",
              "CO2_outdoor               0\n",
              "PM2.5_outdoor             0\n",
              "PM10_outdoor              0\n",
              "CO2_classroom             0\n",
              "PM2.5_classroom           0\n",
              "PM10_classroom            0\n",
              "CO2_classroom_change      0\n",
              "PM2.5_classroom_change    0\n",
              "PM10_classroom_change     0\n",
              "dtype: int64"
            ]
          },
          "metadata": {
            "tags": []
          },
          "execution_count": 238
        }
      ]
    },
    {
      "cell_type": "code",
      "metadata": {
        "id": "bp0paAAbc4kc"
      },
      "source": [
        "scaled_data.to_csv(choosefile+'_for_predict.csv',index=False)"
      ],
      "execution_count": null,
      "outputs": []
    }
  ]
}