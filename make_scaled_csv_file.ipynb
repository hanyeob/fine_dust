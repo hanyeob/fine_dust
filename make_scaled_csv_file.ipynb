{
  "nbformat": 4,
  "nbformat_minor": 0,
  "metadata": {
    "kernelspec": {
      "display_name": "Python 3",
      "language": "python",
      "name": "python3"
    },
    "language_info": {
      "codemirror_mode": {
        "name": "ipython",
        "version": 3
      },
      "file_extension": ".py",
      "mimetype": "text/x-python",
      "name": "python",
      "nbconvert_exporter": "python",
      "pygments_lexer": "ipython3",
      "version": "3.8.7"
    },
    "colab": {
      "name": "make scaled csv file.ipynb",
      "provenance": [],
      "toc_visible": true,
      "include_colab_link": true
    }
  },
  "cells": [
    {
      "cell_type": "markdown",
      "metadata": {
        "id": "view-in-github",
        "colab_type": "text"
      },
      "source": [
        "<a href=\"https://colab.research.google.com/github/hanyeob/fine_dust/blob/master/make_scaled_csv_file.ipynb\" target=\"_parent\"><img src=\"https://colab.research.google.com/assets/colab-badge.svg\" alt=\"Open In Colab\"/></a>"
      ]
    },
    {
      "cell_type": "markdown",
      "metadata": {
        "id": "MGInWe8Dc4kN"
      },
      "source": [
        "## 데이터 불러오기"
      ]
    },
    {
      "cell_type": "code",
      "metadata": {
        "id": "YAfx9_W4c4kU"
      },
      "source": [
        "import numpy as np\n",
        "import pandas as pd"
      ],
      "execution_count": 189,
      "outputs": []
    },
    {
      "cell_type": "code",
      "metadata": {
        "id": "JcqmesYE_upH"
      },
      "source": [
        "isc_2_1='isc_2_1.csv'\r\n",
        "isc_3_1='isc_3_1.csv'\r\n",
        "isc_3_3='isc_3_3.csv'\r\n",
        "nsc_1_1='nsc_1_1.csv'\r\n",
        "nsc_1_2='nsc_1_2.csv'\r\n",
        "nsc_2_5='nsc_2_5.csv'\r\n",
        "sdc_1_1='sdc_1_1.csv'\r\n",
        "sdc_2_1='sdc_2_1.csv'\r\n",
        "sic_2_6='sic_2_6.csv'\r\n",
        "sic_4_2='sic_4_2.csv'\r\n",
        "\r\n",
        "choosefile = sic_4_2\r\n",
        "address = 'https://raw.githubusercontent.com/hanyeob/fine_dust/master/csv%20files/' + choosefile"
      ],
      "execution_count": 190,
      "outputs": []
    },
    {
      "cell_type": "code",
      "metadata": {
        "id": "AtnBCc9Ab1_f"
      },
      "source": [
        "dataset = pd.read_csv(address)"
      ],
      "execution_count": 191,
      "outputs": []
    },
    {
      "cell_type": "code",
      "metadata": {
        "colab": {
          "base_uri": "https://localhost:8080/"
        },
        "id": "YgUncYild6PS",
        "outputId": "f4962b0e-63e5-4904-9760-b24d0dba3049"
      },
      "source": [
        "dataset.columns"
      ],
      "execution_count": 192,
      "outputs": [
        {
          "output_type": "execute_result",
          "data": {
            "text/plain": [
              "Index(['tt', '0.3_outdoor', '0.5_outdoor', '1.0_outdoor', '3.0_outdoor',\n",
              "       '5.0_outdoor', '10.0_outdoor', '0.3_classroom', '0.5_classroom',\n",
              "       '1.0_classroom', '3.0_classroom', '5.0_classroom', '10.0_classroom',\n",
              "       'temp_outdoor', 'RH_outdoor', 'AH_outside', 'CO2_outdoor',\n",
              "       'temp_classroom', 'RH_classroom', 'AH_classroom', 'CO2_classroom',\n",
              "       'ACH', 'temp_meteo_425', 'RH_meteo_425', 'WD_meteo_425', 'WS_meteo_425',\n",
              "       'temp_meteo_889', 'RH_meteo_889', 'WD_meteo_889', 'WS_meteo_889',\n",
              "       'PM10_air_outdoor', 'PM2.5_air_outdoor', 'temp_air_outdoor',\n",
              "       'RH_air_outdoor', 'AH_air_outdoor', 'CO2_air_outdoor',\n",
              "       'VOCS_air_outdoor', 'Noise_air_outdoor', 'PM10_air_classroom',\n",
              "       'PM2.5_air_classroom', 'temp_air_classroom', 'RH_air_classroom',\n",
              "       'AH_air_classroom', 'CO2_air_classroom', 'VOCS_air_classroom',\n",
              "       'Noise_air_classroom', 'ΔT'],\n",
              "      dtype='object')"
            ]
          },
          "metadata": {
            "tags": []
          },
          "execution_count": 192
        }
      ]
    },
    {
      "cell_type": "code",
      "metadata": {
        "id": "x1OaePqoc4kV"
      },
      "source": [
        "dataset = dataset[['tt', '0.3_outdoor', '0.5_outdoor', '1.0_outdoor', '3.0_outdoor',\n",
        "       '5.0_outdoor', '10.0_outdoor', '0.3_classroom', '0.5_classroom',\n",
        "       '1.0_classroom', '3.0_classroom', '5.0_classroom', '10.0_classroom',\n",
        "       'CO2_outdoor','CO2_classroom']]"
      ],
      "execution_count": 193,
      "outputs": []
    },
    {
      "cell_type": "code",
      "metadata": {
        "id": "guljTfe2c4kV"
      },
      "source": [
        "dataset['tt'] = pd.to_datetime(dataset['tt'], format=\"%d-%m-%Y %H:%M:%S\")"
      ],
      "execution_count": 194,
      "outputs": []
    },
    {
      "cell_type": "code",
      "metadata": {
        "colab": {
          "base_uri": "https://localhost:8080/"
        },
        "id": "unJ57Ehsc4kV",
        "outputId": "64a63621-2d87-482f-bfc0-9cd60607a3b9"
      },
      "source": [
        "dataset.isnull().sum()"
      ],
      "execution_count": 195,
      "outputs": [
        {
          "output_type": "execute_result",
          "data": {
            "text/plain": [
              "tt                0\n",
              "0.3_outdoor       0\n",
              "0.5_outdoor       0\n",
              "1.0_outdoor       0\n",
              "3.0_outdoor       0\n",
              "5.0_outdoor       0\n",
              "10.0_outdoor      0\n",
              "0.3_classroom     0\n",
              "0.5_classroom     0\n",
              "1.0_classroom     0\n",
              "3.0_classroom     0\n",
              "5.0_classroom     0\n",
              "10.0_classroom    0\n",
              "CO2_outdoor       0\n",
              "CO2_classroom     0\n",
              "dtype: int64"
            ]
          },
          "metadata": {
            "tags": []
          },
          "execution_count": 195
        }
      ]
    },
    {
      "cell_type": "code",
      "metadata": {
        "id": "fqziFwM7c4kX"
      },
      "source": [
        "for i in reversed(range(0,len(dataset))): \n",
        "    if(np.isnan(dataset.loc[i,'CO2_classroom'])):\n",
        "      if(i+1 < len(dataset)):\n",
        "        dataset.loc[i,'CO2_classroom'] = dataset.loc[i+1,'CO2_classroom']\n",
        "\n",
        "for i in range(0,len(dataset)): \n",
        "    if(np.isnan(dataset.loc[i,'CO2_classroom'])):\n",
        "      if(i > 0):\n",
        "        dataset.loc[i,'CO2_classroom'] = dataset.loc[i-1,'CO2_classroom']"
      ],
      "execution_count": 196,
      "outputs": []
    },
    {
      "cell_type": "markdown",
      "metadata": {
        "id": "5o-HGgl_c4kX"
      },
      "source": [
        "## 미세먼지, 초미세먼지 단위 맞춤 (Scaling)"
      ]
    },
    {
      "cell_type": "code",
      "metadata": {
        "id": "sxbGr4Ooc4kX"
      },
      "source": [
        "dataset['0.3_outdoor_scaled'] = dataset['0.3_outdoor'] * 0.3 ** 3\n",
        "dataset['0.5_outdoor_scaled'] = dataset['0.5_outdoor'] * 0.5 ** 3\n",
        "dataset['1.0_outdoor_scaled'] = dataset['1.0_outdoor'] * 1.0 ** 3\n",
        "dataset['3.0_outdoor_scaled'] = dataset['3.0_outdoor'] * 3.0 ** 3\n",
        "dataset['5.0_outdoor_scaled'] = dataset['5.0_outdoor'] * 5.0 ** 3\n",
        "dataset['10.0_outdoor_scaled'] = dataset['10.0_outdoor'] * 10.0 ** 3\n",
        "\n",
        "dataset['0.3_classroom_scaled'] = dataset['0.3_classroom'] * 0.3 ** 3\n",
        "dataset['0.5_classroom_scaled'] = dataset['0.5_classroom'] * 0.5 ** 3\n",
        "dataset['1.0_classroom_scaled'] = dataset['1.0_classroom'] * 1.0 ** 3\n",
        "dataset['3.0_classroom_scaled'] = dataset['3.0_classroom'] * 3.0 ** 3\n",
        "dataset['5.0_classroom_scaled'] = dataset['5.0_classroom'] * 5.0 ** 3\n",
        "dataset['10.0_classroom_scaled'] = dataset['10.0_classroom'] * 10.0 ** 3"
      ],
      "execution_count": 197,
      "outputs": []
    },
    {
      "cell_type": "markdown",
      "metadata": {
        "id": "_rlb8ilic4kY"
      },
      "source": [
        "## 미세먼지/초미세먼지(내부,외부) 데이터 통합"
      ]
    },
    {
      "cell_type": "code",
      "metadata": {
        "id": "v2PQ5vV4c4kY"
      },
      "source": [
        "dataset['PM2.5_outdoor'] = np.sum(dataset.loc[:,'0.3_outdoor_scaled':'1.0_outdoor_scaled'], axis=1)\n",
        "dataset['PM10_outdoor'] =  np.sum(dataset.loc[:,'3.0_outdoor_scaled':'10.0_outdoor_scaled'], axis=1)\n",
        "\n",
        "dataset['PM2.5_classroom'] = np.sum( dataset.loc[:,'0.3_classroom_scaled':'1.0_classroom_scaled'], axis=1)\n",
        "dataset['PM10_classroom'] = np.sum( dataset.loc[:,'3.0_classroom_scaled':'10.0_classroom_scaled'], axis=1)"
      ],
      "execution_count": 198,
      "outputs": []
    },
    {
      "cell_type": "code",
      "metadata": {
        "scrolled": false,
        "id": "N6sfE-BEc4kY"
      },
      "source": [
        "# CO2_fig = go.Figure()\n",
        "# CO2_fig.add_trace(go.Scatter(x=dataset['tt'], y=dataset['CO2_outdoor'],mode='lines',name='CO2_outdoor'))\n",
        "# CO2_fig.add_trace(go.Scatter(x=dataset['tt'], y=dataset['CO2_classroom'],mode='lines',name='CO2_classroom'))"
      ],
      "execution_count": 199,
      "outputs": []
    },
    {
      "cell_type": "code",
      "metadata": {
        "id": "qdLa_tVlc4kZ"
      },
      "source": [
        "# PM_fig = go.Figure()\n",
        "# from plotly.subplots import make_subplots\n",
        "# PM_fig = make_subplots(specs=[[{\"secondary_y\": True}]])\n",
        "\n",
        "# PM_fig.add_trace(go.Scatter(x=dataset['tt'], y=dataset['PM2.5_outdoor'],line=dict(color='red'), mode='lines',name='PM2.5_outdoors'))\n",
        "# PM_fig.add_trace(go.Scatter(x=dataset['tt'], y=dataset['PM10_outdoor'],line=dict(color='blue'),mode='lines',name='PM10_outdoors'),secondary_y=True,)\n",
        "# PM_fig.add_trace(go.Scatter(x=dataset['tt'], y=dataset['PM2.5_classroom'],line=dict(color='orange'),mode='lines',name='PM2.5_classroom'))\n",
        "# PM_fig.add_trace(go.Scatter(x=dataset['tt'], y=dataset['PM10_classroom'],line=dict(color='skyblue'),mode='lines',name='PM10_classroom'),secondary_y=True,)\n",
        "\n",
        "# PM_fig.update_yaxes(title_text=\"PM 2.5\", secondary_y=False)\n",
        "# PM_fig.update_yaxes(title_text=\"PM10\", secondary_y=True)"
      ],
      "execution_count": 200,
      "outputs": []
    },
    {
      "cell_type": "markdown",
      "metadata": {
        "id": "BKk1YXyPc4ka"
      },
      "source": [
        "## 교실 내 변화량 column생성"
      ]
    },
    {
      "cell_type": "code",
      "metadata": {
        "id": "WsyB-VEbc4ka"
      },
      "source": [
        "for i in range(1,len(dataset)) :\n",
        "    dataset.loc[i,'PM2.5_classroom_change'] = dataset.loc[i,'PM2.5_classroom'] - dataset.loc[i-1,'PM2.5_classroom']\n",
        "    dataset.loc[i,'PM10_classroom_change'] = dataset.loc[i,'PM10_classroom'] - dataset.loc[i-1,'PM10_classroom']\n",
        "    dataset.loc[i,'CO2_classroom_change'] = dataset.loc[i,'CO2_classroom'] - dataset.loc[i-1,'CO2_classroom']\n",
        "\n",
        "dataset.loc[0,'PM2.5_classroom_change'] =dataset.loc[1,'PM2.5_classroom_change']\n",
        "dataset.loc[0,'PM10_classroom_change']  =dataset.loc[1,'PM10_classroom_change'] \n",
        "dataset.loc[0,'CO2_classroom_change']   =dataset.loc[1,'CO2_classroom_change']  "
      ],
      "execution_count": 201,
      "outputs": []
    },
    {
      "cell_type": "code",
      "metadata": {
        "scrolled": false,
        "id": "SAAhf6c1c4kb"
      },
      "source": [
        "# CO2_fig = go.Figure()\n",
        "# CO2_fig.add_trace(go.Scatter(x=dataset['tt'], y=dataset['CO2_outdoor'],mode='lines',name='CO2_outdoor'))\n",
        "# CO2_fig.add_trace(go.Scatter(x=dataset['tt'], y=dataset['CO2_classroom'],mode='lines',name='CO2_classroom'))"
      ],
      "execution_count": 202,
      "outputs": []
    },
    {
      "cell_type": "markdown",
      "metadata": {
        "id": "msnOCKMWc4kb"
      },
      "source": [
        "# 스케일링 (일반화)\n"
      ]
    },
    {
      "cell_type": "code",
      "metadata": {
        "id": "eMTy6EP4c4kb"
      },
      "source": [
        "from sklearn.preprocessing import StandardScaler\n",
        "scaler = StandardScaler()\n",
        "\n",
        "scaled = scaler.fit_transform(dataset[\n",
        "                ['CO2_outdoor','PM2.5_outdoor','PM10_outdoor',\n",
        "               'CO2_classroom','PM2.5_classroom','PM10_classroom',\n",
        "               'CO2_classroom_change','PM2.5_classroom_change','PM10_classroom_change']\n",
        "              ])\n",
        "scaled = pd.DataFrame(data=scaled,columns=['CO2_outdoor','PM2.5_outdoor','PM10_outdoor',\n",
        "               'CO2_classroom','PM2.5_classroom','PM10_classroom',\n",
        "               'CO2_classroom_change','PM2.5_classroom_change','PM10_classroom_change'])"
      ],
      "execution_count": 203,
      "outputs": []
    },
    {
      "cell_type": "code",
      "metadata": {
        "id": "ph399PnZc4kc"
      },
      "source": [
        "scaled = pd.concat([dataset.tt, scaled], axis=1)"
      ],
      "execution_count": 204,
      "outputs": []
    },
    {
      "cell_type": "code",
      "metadata": {
        "colab": {
          "base_uri": "https://localhost:8080/",
          "height": 782
        },
        "id": "RkZ2l3xYc4kc",
        "outputId": "2dfbef99-a544-4c24-846d-98d90c008e4d"
      },
      "source": [
        "scaled"
      ],
      "execution_count": 205,
      "outputs": [
        {
          "output_type": "execute_result",
          "data": {
            "text/html": [
              "<div>\n",
              "<style scoped>\n",
              "    .dataframe tbody tr th:only-of-type {\n",
              "        vertical-align: middle;\n",
              "    }\n",
              "\n",
              "    .dataframe tbody tr th {\n",
              "        vertical-align: top;\n",
              "    }\n",
              "\n",
              "    .dataframe thead th {\n",
              "        text-align: right;\n",
              "    }\n",
              "</style>\n",
              "<table border=\"1\" class=\"dataframe\">\n",
              "  <thead>\n",
              "    <tr style=\"text-align: right;\">\n",
              "      <th></th>\n",
              "      <th>tt</th>\n",
              "      <th>CO2_outdoor</th>\n",
              "      <th>PM2.5_outdoor</th>\n",
              "      <th>PM10_outdoor</th>\n",
              "      <th>CO2_classroom</th>\n",
              "      <th>PM2.5_classroom</th>\n",
              "      <th>PM10_classroom</th>\n",
              "      <th>CO2_classroom_change</th>\n",
              "      <th>PM2.5_classroom_change</th>\n",
              "      <th>PM10_classroom_change</th>\n",
              "    </tr>\n",
              "  </thead>\n",
              "  <tbody>\n",
              "    <tr>\n",
              "      <th>0</th>\n",
              "      <td>2019-12-09 17:21:58</td>\n",
              "      <td>2.172880</td>\n",
              "      <td>-0.243034</td>\n",
              "      <td>0.529866</td>\n",
              "      <td>-0.342581</td>\n",
              "      <td>1.259666</td>\n",
              "      <td>0.056165</td>\n",
              "      <td>-0.014231</td>\n",
              "      <td>-0.017581</td>\n",
              "      <td>-0.794181</td>\n",
              "    </tr>\n",
              "    <tr>\n",
              "      <th>1</th>\n",
              "      <td>2019-12-09 17:22:58</td>\n",
              "      <td>2.095391</td>\n",
              "      <td>-0.212904</td>\n",
              "      <td>0.441144</td>\n",
              "      <td>-0.344607</td>\n",
              "      <td>1.257464</td>\n",
              "      <td>-0.076304</td>\n",
              "      <td>-0.014231</td>\n",
              "      <td>-0.017581</td>\n",
              "      <td>-0.794181</td>\n",
              "    </tr>\n",
              "    <tr>\n",
              "      <th>2</th>\n",
              "      <td>2019-12-09 17:23:58</td>\n",
              "      <td>1.862921</td>\n",
              "      <td>-0.240694</td>\n",
              "      <td>0.554274</td>\n",
              "      <td>-0.346633</td>\n",
              "      <td>1.247452</td>\n",
              "      <td>-0.084361</td>\n",
              "      <td>-0.014231</td>\n",
              "      <td>-0.094764</td>\n",
              "      <td>-0.048080</td>\n",
              "    </tr>\n",
              "    <tr>\n",
              "      <th>3</th>\n",
              "      <td>2019-12-09 17:24:58</td>\n",
              "      <td>0.868470</td>\n",
              "      <td>-0.247208</td>\n",
              "      <td>0.772440</td>\n",
              "      <td>-0.350686</td>\n",
              "      <td>1.237001</td>\n",
              "      <td>-0.156891</td>\n",
              "      <td>-0.028180</td>\n",
              "      <td>-0.099106</td>\n",
              "      <td>-0.434727</td>\n",
              "    </tr>\n",
              "    <tr>\n",
              "      <th>4</th>\n",
              "      <td>2019-12-09 17:25:58</td>\n",
              "      <td>0.429361</td>\n",
              "      <td>-0.256958</td>\n",
              "      <td>0.792566</td>\n",
              "      <td>-0.352712</td>\n",
              "      <td>1.187057</td>\n",
              "      <td>0.102730</td>\n",
              "      <td>-0.014231</td>\n",
              "      <td>-0.489424</td>\n",
              "      <td>1.557173</td>\n",
              "    </tr>\n",
              "    <tr>\n",
              "      <th>...</th>\n",
              "      <td>...</td>\n",
              "      <td>...</td>\n",
              "      <td>...</td>\n",
              "      <td>...</td>\n",
              "      <td>...</td>\n",
              "      <td>...</td>\n",
              "      <td>...</td>\n",
              "      <td>...</td>\n",
              "      <td>...</td>\n",
              "      <td>...</td>\n",
              "    </tr>\n",
              "    <tr>\n",
              "      <th>4093</th>\n",
              "      <td>2019-12-12 13:34:59</td>\n",
              "      <td>-0.578006</td>\n",
              "      <td>-1.237343</td>\n",
              "      <td>-0.558029</td>\n",
              "      <td>-0.107559</td>\n",
              "      <td>-0.375189</td>\n",
              "      <td>0.026883</td>\n",
              "      <td>-0.042129</td>\n",
              "      <td>-0.134481</td>\n",
              "      <td>0.009822</td>\n",
              "    </tr>\n",
              "    <tr>\n",
              "      <th>4094</th>\n",
              "      <td>2019-12-12 13:35:59</td>\n",
              "      <td>-0.539261</td>\n",
              "      <td>-1.242357</td>\n",
              "      <td>-0.657426</td>\n",
              "      <td>-0.121741</td>\n",
              "      <td>-0.409462</td>\n",
              "      <td>0.011391</td>\n",
              "      <td>-0.097924</td>\n",
              "      <td>-0.334531</td>\n",
              "      <td>-0.092669</td>\n",
              "    </tr>\n",
              "    <tr>\n",
              "      <th>4095</th>\n",
              "      <td>2019-12-12 13:36:59</td>\n",
              "      <td>-0.565091</td>\n",
              "      <td>-1.241022</td>\n",
              "      <td>-0.543312</td>\n",
              "      <td>-0.139976</td>\n",
              "      <td>-0.447493</td>\n",
              "      <td>-0.084935</td>\n",
              "      <td>-0.125822</td>\n",
              "      <td>-0.371687</td>\n",
              "      <td>-0.577431</td>\n",
              "    </tr>\n",
              "    <tr>\n",
              "      <th>4096</th>\n",
              "      <td>2019-12-12 13:37:59</td>\n",
              "      <td>-0.745900</td>\n",
              "      <td>-1.256271</td>\n",
              "      <td>-0.771644</td>\n",
              "      <td>-0.154158</td>\n",
              "      <td>-0.464358</td>\n",
              "      <td>-0.074883</td>\n",
              "      <td>-0.097924</td>\n",
              "      <td>-0.162493</td>\n",
              "      <td>0.060514</td>\n",
              "    </tr>\n",
              "    <tr>\n",
              "      <th>4097</th>\n",
              "      <td>2019-12-12 13:38:59</td>\n",
              "      <td>-0.603836</td>\n",
              "      <td>-1.265700</td>\n",
              "      <td>-0.755116</td>\n",
              "      <td>-0.172393</td>\n",
              "      <td>-0.471926</td>\n",
              "      <td>0.028892</td>\n",
              "      <td>-0.125822</td>\n",
              "      <td>-0.070617</td>\n",
              "      <td>0.622568</td>\n",
              "    </tr>\n",
              "  </tbody>\n",
              "</table>\n",
              "<p>4098 rows × 10 columns</p>\n",
              "</div>"
            ],
            "text/plain": [
              "                      tt  ...  PM10_classroom_change\n",
              "0    2019-12-09 17:21:58  ...              -0.794181\n",
              "1    2019-12-09 17:22:58  ...              -0.794181\n",
              "2    2019-12-09 17:23:58  ...              -0.048080\n",
              "3    2019-12-09 17:24:58  ...              -0.434727\n",
              "4    2019-12-09 17:25:58  ...               1.557173\n",
              "...                  ...  ...                    ...\n",
              "4093 2019-12-12 13:34:59  ...               0.009822\n",
              "4094 2019-12-12 13:35:59  ...              -0.092669\n",
              "4095 2019-12-12 13:36:59  ...              -0.577431\n",
              "4096 2019-12-12 13:37:59  ...               0.060514\n",
              "4097 2019-12-12 13:38:59  ...               0.622568\n",
              "\n",
              "[4098 rows x 10 columns]"
            ]
          },
          "metadata": {
            "tags": []
          },
          "execution_count": 205
        }
      ]
    },
    {
      "cell_type": "code",
      "metadata": {
        "id": "bp0paAAbc4kc"
      },
      "source": [
        "scaled.to_csv(choosefile+'_for_predict.csv')"
      ],
      "execution_count": 206,
      "outputs": []
    }
  ]
}