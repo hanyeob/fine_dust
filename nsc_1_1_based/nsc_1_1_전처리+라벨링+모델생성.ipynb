{
  "nbformat": 4,
  "nbformat_minor": 0,
  "metadata": {
    "kernelspec": {
      "display_name": "Python 3",
      "language": "python",
      "name": "python3"
    },
    "language_info": {
      "codemirror_mode": {
        "name": "ipython",
        "version": 3
      },
      "file_extension": ".py",
      "mimetype": "text/x-python",
      "name": "python",
      "nbconvert_exporter": "python",
      "pygments_lexer": "ipython3",
      "version": "3.8.7"
    },
    "colab": {
      "name": "nsc 1-1 전처리+라벨링+모델생성.ipynb",
      "private_outputs": true,
      "provenance": [],
      "collapsed_sections": [
        "Tij_efkC2YIH",
        "_SWPAKc62YIT"
      ],
      "toc_visible": true
    },
    "accelerator": "GPU"
  },
  "cells": [
    {
      "cell_type": "markdown",
      "metadata": {
        "id": "WeduY0Ro2YH4"
      },
      "source": [
        "# 데이터 불러오기"
      ]
    },
    {
      "cell_type": "markdown",
      "metadata": {
        "id": "g-qYzGf96tX_"
      },
      "source": [
        "## 모듈 불러오기"
      ]
    },
    {
      "cell_type": "code",
      "metadata": {
        "id": "pekx17Yt2YH-"
      },
      "source": [
        "import numpy as np\n",
        "import pandas as pd\n",
        "import matplotlib.pyplot as plt \n",
        "import plotly.express as px\n",
        "import plotly.graph_objects as go"
      ],
      "execution_count": null,
      "outputs": []
    },
    {
      "cell_type": "markdown",
      "metadata": {
        "id": "dc-TrZVh6vn6"
      },
      "source": [
        "## 파일 불러오기"
      ]
    },
    {
      "cell_type": "code",
      "metadata": {
        "id": "JcqmesYE_upH"
      },
      "source": [
        "# isc_2_1='isc_2_1'\r\n",
        "# isc_3_1='isc_3_1'\r\n",
        "# isc_3_3='isc_3_3'\r\n",
        "nsc_1_1='nsc_1_1'\r\n",
        "# nsc_1_2='nsc_1_2'\r\n",
        "# nsc_2_5='nsc_2_5'\r\n",
        "# sdc_1_1='sdc_1_1'\r\n",
        "# sdc_2_1='sdc_2_1'\r\n",
        "# sic_2_6='sic_2_6'\r\n",
        "# sic_4_2='sic_4_2'\r\n",
        "\r\n",
        "choosefile = nsc_1_1\r\n",
        "address = 'https://raw.githubusercontent.com/hanyeob/fine_dust/master/csv%20files/' + choosefile +\".csv\""
      ],
      "execution_count": null,
      "outputs": []
    },
    {
      "cell_type": "code",
      "metadata": {
        "id": "AtnBCc9Ab1_f"
      },
      "source": [
        "dataset = pd.read_csv(address)"
      ],
      "execution_count": null,
      "outputs": []
    },
    {
      "cell_type": "code",
      "metadata": {
        "id": "jiiY_Ion4Ud0"
      },
      "source": [
        "dataset[0:5]"
      ],
      "execution_count": null,
      "outputs": []
    },
    {
      "cell_type": "markdown",
      "metadata": {
        "id": "K5rZJznH63Ly"
      },
      "source": [
        "## 데이터 정리"
      ]
    },
    {
      "cell_type": "code",
      "metadata": {
        "id": "Mx5pbyeg2YH_"
      },
      "source": [
        "dataset = dataset.loc[:,'tt':'CO2_classroom']\n",
        "dataset = dataset.drop(columns=['temp_outdoor', 'RH_outdoor','AH_outdoor','temp_classroom', 'RH_classroom','AH_classroom'])\n",
        "dataset"
      ],
      "execution_count": null,
      "outputs": []
    },
    {
      "cell_type": "code",
      "metadata": {
        "id": "mi2c0GJ92YIA"
      },
      "source": [
        "dataset['tt'] = pd.to_datetime(dataset['tt'], format=\"%d-%m-%Y %H:%M:%S\")\n",
        "dataset.tt"
      ],
      "execution_count": null,
      "outputs": []
    },
    {
      "cell_type": "markdown",
      "metadata": {
        "id": "G59bmEI36hSq"
      },
      "source": [
        "## 불러온 데이터 NaN값 처리"
      ]
    },
    {
      "cell_type": "markdown",
      "metadata": {
        "id": "tqUimUk96_0d"
      },
      "source": [
        "## NaN값 확인"
      ]
    },
    {
      "cell_type": "code",
      "metadata": {
        "id": "Yyehvfeh2YIB"
      },
      "source": [
        "dataset.isnull().sum()"
      ],
      "execution_count": null,
      "outputs": []
    },
    {
      "cell_type": "markdown",
      "metadata": {
        "id": "-B3cNdR76WqP"
      },
      "source": [
        "### NaN값을 이후/이전에 측정된 값으로 채워넣기 "
      ]
    },
    {
      "cell_type": "code",
      "metadata": {
        "id": "gStYiLrX2YIB"
      },
      "source": [
        "for i in reversed(range(0,len(dataset))): \n",
        "    if(np.isnan(dataset.loc[i,'CO2_classroom'])):\n",
        "      if(i+1 < len(dataset)):\n",
        "        dataset.loc[i,'CO2_classroom'] = dataset.loc[i+1,'CO2_classroom']\n",
        "\n",
        "for i in range(0,len(dataset)): \n",
        "    if(np.isnan(dataset.loc[i,'CO2_classroom'])):\n",
        "      if(i > 0):\n",
        "        dataset.loc[i,'CO2_classroom'] = dataset.loc[i-1,'CO2_classroom']"
      ],
      "execution_count": null,
      "outputs": []
    },
    {
      "cell_type": "markdown",
      "metadata": {
        "id": "8BTWgtAo2YIB"
      },
      "source": [
        "# 미세먼지, 초미세먼지 단위 맞춤 (Scaling)"
      ]
    },
    {
      "cell_type": "code",
      "metadata": {
        "id": "hwGj0gaG2YIC"
      },
      "source": [
        "dataset['0.3_outdoor_scaled'] = dataset['0.3_outdoor'] * 0.3 ** 3\n",
        "dataset['0.5_outdoor_scaled'] = dataset['0.5_outdoor'] * 0.5 ** 3\n",
        "dataset['1.0_outdoor_scaled'] = dataset['1.0_outdoor'] * 1.0 ** 3\n",
        "dataset['3.0_outdoor_scaled'] = dataset['3.0_outdoor'] * 3.0 ** 3\n",
        "dataset['5.0_outdoor_scaled'] = dataset['5.0_outdoor'] * 5.0 ** 3\n",
        "dataset['10.0_outdoor_scaled'] = dataset['10.0_outdoor'] * 10.0 ** 3\n",
        "\n",
        "dataset['0.3_classroom_scaled'] = dataset['0.3_classroom'] * 0.3 ** 3\n",
        "dataset['0.5_classroom_scaled'] = dataset['0.5_classroom'] * 0.5 ** 3\n",
        "dataset['1.0_classroom_scaled'] = dataset['1.0_classroom'] * 1.0 ** 3\n",
        "dataset['3.0_classroom_scaled'] = dataset['3.0_classroom'] * 3.0 ** 3\n",
        "dataset['5.0_classroom_scaled'] = dataset['5.0_classroom'] * 5.0 ** 3\n",
        "dataset['10.0_classroom_scaled'] = dataset['10.0_classroom'] * 10.0 ** 3\n",
        "\n",
        "dataset"
      ],
      "execution_count": null,
      "outputs": []
    },
    {
      "cell_type": "markdown",
      "metadata": {
        "id": "gwlTQnsg2YIC"
      },
      "source": [
        "## 미세먼지/초미세먼지(내부,외부) 데이터 통합"
      ]
    },
    {
      "cell_type": "code",
      "metadata": {
        "id": "2jpBzetP2YID"
      },
      "source": [
        "dataset['PM2.5_outdoor'] = np.sum(dataset.loc[:,'0.3_outdoor_scaled':'1.0_outdoor_scaled'], axis=1)\n",
        "dataset['PM10_outdoor'] =  np.sum(dataset.loc[:,'3.0_outdoor_scaled':'10.0_outdoor_scaled'], axis=1)\n",
        "\n",
        "dataset['PM2.5_classroom'] = np.sum( dataset.loc[:,'0.3_classroom_scaled':'1.0_classroom_scaled'], axis=1)\n",
        "dataset['PM10_classroom'] = np.sum( dataset.loc[:,'3.0_classroom_scaled':'10.0_classroom_scaled'], axis=1)\n",
        "\n",
        "dataset"
      ],
      "execution_count": null,
      "outputs": []
    },
    {
      "cell_type": "code",
      "metadata": {
        "scrolled": false,
        "id": "CA4W5_oj2YID"
      },
      "source": [
        "# CO2_fig = go.Figure()\n",
        "# CO2_fig.add_trace(go.Scatter(x=dataset['tt'], y=dataset['CO2_outdoor'],mode='lines',name='CO2_outdoor'))\n",
        "# CO2_fig.add_trace(go.Scatter(x=dataset['tt'], y=dataset['CO2_classroom'],mode='lines',name='CO2_classroom'))"
      ],
      "execution_count": null,
      "outputs": []
    },
    {
      "cell_type": "code",
      "metadata": {
        "id": "Sw7rEcy92YIE"
      },
      "source": [
        "# PM_fig = go.Figure()\n",
        "# from plotly.subplots import make_subplots\n",
        "# PM_fig = make_subplots(specs=[[{\"secondary_y\": True}]])\n",
        "\n",
        "# PM_fig.add_trace(go.Scatter(x=dataset['tt'], y=dataset['PM2.5_outdoor'],line=dict(color='red'), mode='lines',name='PM2.5_outdoors'))\n",
        "# PM_fig.add_trace(go.Scatter(x=dataset['tt'], y=dataset['PM10_outdoor'],line=dict(color='blue'),mode='lines',name='PM10_outdoors'),secondary_y=True,)\n",
        "# PM_fig.add_trace(go.Scatter(x=dataset['tt'], y=dataset['PM2.5_classroom'],line=dict(color='orange'),mode='lines',name='PM2.5_classroom'))\n",
        "# PM_fig.add_trace(go.Scatter(x=dataset['tt'], y=dataset['PM10_classroom'],line=dict(color='skyblue'),mode='lines',name='PM10_classroom'),secondary_y=True,)\n",
        "\n",
        "# PM_fig.update_yaxes(title_text=\"PM 2.5\", secondary_y=False)\n",
        "# PM_fig.update_yaxes(title_text=\"PM10\", secondary_y=True)"
      ],
      "execution_count": null,
      "outputs": []
    },
    {
      "cell_type": "markdown",
      "metadata": {
        "id": "foTAFEIT2YIF"
      },
      "source": [
        "# 교실 내 변화량 column생성"
      ]
    },
    {
      "cell_type": "code",
      "metadata": {
        "id": "FYlNb2hE2YIG"
      },
      "source": [
        "for i in range(1,len(dataset)) :\n",
        "    dataset.loc[i,'PM2.5_classroom_change'] = dataset.loc[i,'PM2.5_classroom'] - dataset.loc[i-1,'PM2.5_classroom']\n",
        "    dataset.loc[i,'PM10_classroom_change'] = dataset.loc[i,'PM10_classroom'] - dataset.loc[i-1,'PM10_classroom']\n",
        "    dataset.loc[i,'CO2_classroom_change'] = dataset.loc[i,'CO2_classroom'] - dataset.loc[i-1,'CO2_classroom']\n",
        "\n",
        "dataset.loc[0,'PM2.5_classroom_change'] =dataset.loc[1,'PM2.5_classroom_change']\n",
        "dataset.loc[0,'PM10_classroom_change']  =dataset.loc[1,'PM10_classroom_change'] \n",
        "dataset.loc[0,'CO2_classroom_change']   =dataset.loc[1,'CO2_classroom_change']  "
      ],
      "execution_count": null,
      "outputs": []
    },
    {
      "cell_type": "code",
      "metadata": {
        "id": "2n_mvBEi2YIG"
      },
      "source": [
        "dataset.loc[:,['CO2_classroom','CO2_classroom_change']]"
      ],
      "execution_count": null,
      "outputs": []
    },
    {
      "cell_type": "code",
      "metadata": {
        "scrolled": false,
        "id": "a-IGX-tH2YIG"
      },
      "source": [
        "# CO2_fig = go.Figure()\n",
        "# CO2_fig.add_trace(go.Scatter(x=dataset['tt'], y=dataset['CO2_outdoor'],mode='lines',name='CO2_outdoor'))\n",
        "# CO2_fig.add_trace(go.Scatter(x=dataset['tt'], y=dataset['CO2_classroom'],mode='lines',name='CO2_classroom'))"
      ],
      "execution_count": null,
      "outputs": []
    },
    {
      "cell_type": "markdown",
      "metadata": {
        "id": "b7iD6MAi2YIO"
      },
      "source": [
        "# 스케일링 (일반화)\n"
      ]
    },
    {
      "cell_type": "code",
      "metadata": {
        "id": "zlx-E3IG2YIP"
      },
      "source": [
        "from sklearn.preprocessing import StandardScaler\n",
        "scaler = StandardScaler()\n",
        "\n",
        "scaled_data = scaler.fit_transform(dataset[\n",
        "                ['CO2_outdoor','PM2.5_outdoor','PM10_outdoor',\n",
        "               'CO2_classroom','PM2.5_classroom','PM10_classroom',\n",
        "               'CO2_classroom_change','PM2.5_classroom_change','PM10_classroom_change']\n",
        "              ])\n",
        "scaled_data = pd.DataFrame(data=scaled_data,columns=['CO2_outdoor','PM2.5_outdoor','PM10_outdoor',\n",
        "               'CO2_classroom','PM2.5_classroom','PM10_classroom',\n",
        "               'CO2_classroom_change','PM2.5_classroom_change','PM10_classroom_change'])\n",
        "scaled_data.insert(loc=0,column='tt',value=dataset['tt'])\n",
        "scaled_data"
      ],
      "execution_count": null,
      "outputs": []
    },
    {
      "cell_type": "code",
      "metadata": {
        "id": "0imvXswAiwgx"
      },
      "source": [
        "scaled_data['CO2_classroom_change'].median()"
      ],
      "execution_count": null,
      "outputs": []
    },
    {
      "cell_type": "code",
      "metadata": {
        "id": "AwvATsPqkCsO"
      },
      "source": [
        "px.histogram(x =scaled_data['CO2_classroom_change'])"
      ],
      "execution_count": null,
      "outputs": []
    },
    {
      "cell_type": "markdown",
      "metadata": {
        "id": "cdbQ56-18HwL"
      },
      "source": [
        "# 라벨링\r\n"
      ]
    },
    {
      "cell_type": "markdown",
      "metadata": {
        "id": "Tij_efkC2YIH"
      },
      "source": [
        "## 재실여부 라벨링"
      ]
    },
    {
      "cell_type": "code",
      "metadata": {
        "id": "ojxkkTg52YIH"
      },
      "source": [
        "scaled_data['attend_manual'] = np.NaN"
      ],
      "execution_count": null,
      "outputs": []
    },
    {
      "cell_type": "code",
      "metadata": {
        "id": "n8nVmjxj2YIH"
      },
      "source": [
        "for i in range(1,len(scaled_data)) :\n",
        "        # 교실내 CO2가 외부 CO2보다 많으면서 교실내 CO2양 증가 \n",
        "    if((scaled_data.loc[i,'CO2_classroom_change'] > scaled_data['CO2_classroom_change'].median()) & (scaled_data.loc[i,'CO2_classroom'] > scaled_data.loc[i,'CO2_outdoor'])) :\n",
        "        scaled_data.loc[i,'attend_manual'] = 'Yes';\n",
        "        # 교실내 PM10이 외부 PM10보다 많으면서 교실내 PM10양 증가 \n",
        "    elif((scaled_data.loc[i,'PM10_classroom_change'] > scaled_data['PM10_classroom_change'].median()) & (scaled_data.loc[i,'PM10_classroom'] > scaled_data.loc[i,'PM10_outdoor'])):\n",
        "        scaled_data.loc[i,'attend_manual'] = 'Yes';\n",
        "    "
      ],
      "execution_count": null,
      "outputs": []
    },
    {
      "cell_type": "code",
      "metadata": {
        "id": "59esp9WT2YII"
      },
      "source": [
        "# 하교시간\n",
        "scaled_data.loc[((np.datetime64('2019-10-28T18:59') < scaled_data['tt']) \n",
        "             &(scaled_data['tt'] < np.datetime64('2019-10-29T08:20'))),'attend_manual'] = 'No'\n",
        "scaled_data.loc[((np.datetime64('2019-10-29T16:40') < scaled_data['tt']) \n",
        "             &(scaled_data['tt'] < np.datetime64('2019-10-30T07:50'))),'attend_manual'] = 'No'\n",
        "scaled_data.loc[((np.datetime64('2019-10-30T16:50') < scaled_data['tt']) \n",
        "             &(scaled_data['tt'] < np.datetime64('2019-10-31T08:20'))),'attend_manual'] = 'No'\n",
        "scaled_data.loc[((np.datetime64('2019-10-31T16:45') < scaled_data['tt']) \n",
        "             &(scaled_data['tt'] < np.datetime64('2019-11-01T08:22'))),'attend_manual'] = 'No'\n",
        "scaled_data.loc[((np.datetime64('2019-11-01T15:36') < scaled_data['tt']) \n",
        "             &(scaled_data['tt'] < np.datetime64('2019-11-02T11:10'))),'attend_manual'] = 'No'\n",
        "scaled_data.loc[((np.datetime64('2019-11-02T13:00') < scaled_data['tt']) \n",
        "             &(scaled_data['tt'] < np.datetime64('2019-11-04T08:03'))),'attend_manual'] = 'No'\n",
        "scaled_data.loc[((np.datetime64('2019-11-04T16:59') < scaled_data['tt']) \n",
        "             &(scaled_data['tt'] < np.datetime64('2019-11-05T07:30'))),'attend_manual'] = 'No'\n",
        "\n",
        "# 외부수업\n",
        "scaled_data.loc[((np.datetime64('2019-10-31T09:45') < scaled_data['tt']) \n",
        "             &(scaled_data['tt'] < np.datetime64('2019-10-31T10:27'))),'attend_manual'] = 'No'\n",
        "\n"
      ],
      "execution_count": null,
      "outputs": []
    },
    {
      "cell_type": "code",
      "metadata": {
        "id": "ChNPRzwu2YII"
      },
      "source": [
        "px.line(x=scaled_data.tt, y= scaled_data.attend_manual)"
      ],
      "execution_count": null,
      "outputs": []
    },
    {
      "cell_type": "markdown",
      "metadata": {
        "id": "UBB7dHPK2YIJ"
      },
      "source": [
        "## 환기여부 라벨링"
      ]
    },
    {
      "cell_type": "code",
      "metadata": {
        "id": "8MgmTmoM2YIJ"
      },
      "source": [
        "scaled_data['vent_manual'] = np.NaN"
      ],
      "execution_count": null,
      "outputs": []
    },
    {
      "cell_type": "code",
      "metadata": {
        "scrolled": false,
        "id": "xVafDlNj2YIJ"
      },
      "source": [
        "# CO2_fig = go.Figure()\n",
        "# CO2_fig.add_trace(go.Scatter(x=scaled_data['tt'], y=scaled_data['CO2_outdoor'],mode='lines',name='CO2_outdoor'))\n",
        "# CO2_fig.add_trace(go.Scatter(x=scaled_data['tt'], y=scaled_data['CO2_classroom'],mode='lines',name='CO2_classroom'))"
      ],
      "execution_count": null,
      "outputs": []
    },
    {
      "cell_type": "code",
      "metadata": {
        "id": "i4X7w_DqAoDV"
      },
      "source": [
        "for i in range(1,len(scaled_data)) :\n",
        "        # 교실내 PM2,5가 외부 PM2.5보다 적었는데 교실내 PM2.5양 증가 \n",
        "    if((scaled_data.loc[i,'PM2.5_classroom_change'] > scaled_data['PM2.5_classroom_change'].median()) & (scaled_data.loc[i,'PM2.5_classroom'] < scaled_data.loc[i,'PM2.5_outdoor'])) :\n",
        "        scaled_data.loc[i,'vent_manual'] = 'Yes';\n",
        "    "
      ],
      "execution_count": null,
      "outputs": []
    },
    {
      "cell_type": "code",
      "metadata": {
        "id": "0qzpnphn2YIK"
      },
      "source": [
        "# 하교시간\n",
        "scaled_data.loc[((np.datetime64('2019-10-28T18:59') < scaled_data['tt']) \n",
        "             &(scaled_data['tt'] < np.datetime64('2019-10-29T08:20'))),'vent_manual'] = 'No'\n",
        "scaled_data.loc[((np.datetime64('2019-10-29T16:40') < scaled_data['tt']) \n",
        "             &(scaled_data['tt'] < np.datetime64('2019-10-30T07:50'))),'vent_manual'] = 'No'\n",
        "scaled_data.loc[((np.datetime64('2019-10-30T16:50') < scaled_data['tt']) \n",
        "             &(scaled_data['tt'] < np.datetime64('2019-10-31T08:20'))),'vent_manual'] = 'No'\n",
        "scaled_data.loc[((np.datetime64('2019-10-31T16:45') < scaled_data['tt']) \n",
        "             &(scaled_data['tt'] < np.datetime64('2019-11-01T08:22'))),'vent_manual'] = 'No'\n",
        "scaled_data.loc[((np.datetime64('2019-11-01T15:36') < scaled_data['tt']) \n",
        "             &(scaled_data['tt'] < np.datetime64('2019-11-02T11:10'))),'vent_manual'] = 'No'\n",
        "scaled_data.loc[((np.datetime64('2019-11-02T13:00') < scaled_data['tt']) \n",
        "             &(scaled_data['tt'] < np.datetime64('2019-11-04T08:03'))),'vent_manual'] = 'No'\n",
        "scaled_data.loc[((np.datetime64('2019-11-04T16:59') < scaled_data['tt']) \n",
        "             &(scaled_data['tt'] < np.datetime64('2019-11-05T07:30'))),'vent_manual'] = 'No'\n",
        "\n",
        "# CO2 그래프 판단\n",
        "scaled_data.loc[((np.datetime64('2019-10-29T09:46') < scaled_data['tt']) \n",
        "             &(scaled_data['tt'] < np.datetime64('2019-10-29T09:49'))),'vent_manual'] = 'Yes'\n",
        "scaled_data.loc[((np.datetime64('2019-10-29T10:11') < scaled_data['tt']) \n",
        "             &(scaled_data['tt'] < np.datetime64('2019-10-29T10:14'))),'vent_manual'] = 'Yes'\n",
        "scaled_data.loc[((np.datetime64('2019-10-29T10:35') < scaled_data['tt']) \n",
        "             &(scaled_data['tt'] < np.datetime64('2019-10-29T10:53'))),'vent_manual'] = 'Yes'\n",
        "scaled_data.loc[((np.datetime64('2019-10-29T12:11') < scaled_data['tt']) \n",
        "             &(scaled_data['tt'] < np.datetime64('2019-10-29T12:39'))),'vent_manual'] = 'Yes'\n",
        "scaled_data.loc[((np.datetime64('2019-10-29T12:51') < scaled_data['tt']) \n",
        "             &(scaled_data['tt'] < np.datetime64('2019-10-29T13:04'))),'vent_manual'] = 'Yes'\n",
        "scaled_data.loc[((np.datetime64('2019-10-29T14:10') < scaled_data['tt']) \n",
        "             &(scaled_data['tt'] < np.datetime64('2019-10-29T14:21'))),'vent_manual'] = 'Yes'\n",
        "\n",
        "scaled_data.loc[((np.datetime64('2019-10-30T09:39') < scaled_data['tt']) \n",
        "             &(scaled_data['tt'] < np.datetime64('2019-10-30T09:47'))),'vent_manual'] = 'Yes'\n",
        "scaled_data.loc[((np.datetime64('2019-10-30T10:16') < scaled_data['tt']) \n",
        "             &(scaled_data['tt'] < np.datetime64('2019-10-30T11:09'))),'vent_manual'] = 'Yes'\n",
        "scaled_data.loc[((np.datetime64('2019-10-30T11:48') < scaled_data['tt']) \n",
        "             &(scaled_data['tt'] < np.datetime64('2019-10-30T12:22'))),'vent_manual'] = 'Yes'\n",
        "scaled_data.loc[((np.datetime64('2019-10-30T12:44') < scaled_data['tt']) \n",
        "             &(scaled_data['tt'] < np.datetime64('2019-10-30T15:00'))),'vent_manual'] = 'Yes'\n",
        "\n",
        "scaled_data.loc[((np.datetime64('2019-10-31T08:53') < scaled_data['tt'])         \n",
        "             &(scaled_data['tt'] < np.datetime64('2019-10-31T10:27'))),'vent_manual'] = 'Yes'\n",
        "scaled_data.loc[((np.datetime64('2019-10-31T11:32') < scaled_data['tt']) \n",
        "             &(scaled_data['tt'] < np.datetime64('2019-10-31T12:58'))),'vent_manual'] = 'Yes'\n",
        "scaled_data.loc[((np.datetime64('2019-10-31T13:45') < scaled_data['tt']) \n",
        "             &(scaled_data['tt'] < np.datetime64('2019-10-31T14:12'))),'vent_manual'] = 'Yes'\n",
        "\n",
        "scaled_data.loc[((np.datetime64('2019-11-01T12:36') < scaled_data['tt'])              \n",
        "             &(scaled_data['tt'] < np.datetime64('2019-11-01T12:50'))),'vent_manual'] = 'Yes'\n",
        "scaled_data.loc[((np.datetime64('2019-11-01T13:45') < scaled_data['tt']) \n",
        "             &(scaled_data['tt'] < np.datetime64('2019-11-01T14:28'))),'vent_manual'] = 'Yes'\n",
        "\n",
        "scaled_data.loc[((np.datetime64('2019-11-02T11:55') < scaled_data['tt']) \n",
        "             &(scaled_data['tt'] < np.datetime64('2019-11-02T12:14'))),'vent_manual'] = 'Yes'\n",
        "\n",
        "scaled_data.loc[((np.datetime64('2019-11-04T09:41') < scaled_data['tt']) \n",
        "             &(scaled_data['tt'] < np.datetime64('2019-11-04T10:26'))),'vent_manual'] = 'Yes'\n",
        "scaled_data.loc[((np.datetime64('2019-11-04T11:22') < scaled_data['tt']) \n",
        "             &(scaled_data['tt'] < np.datetime64('2019-11-04T11:48'))),'vent_manual'] = 'Yes'\n",
        "scaled_data.loc[((np.datetime64('2019-11-04T12:08') < scaled_data['tt']) \n",
        "             &(scaled_data['tt'] < np.datetime64('2019-11-04T16:28'))),'vent_manual'] = 'Yes'\n",
        "\n",
        "scaled_data.loc[((np.datetime64('2019-11-05T09:42') < scaled_data['tt']) \n",
        "             &(scaled_data['tt'] < np.datetime64('2019-11-05T10:30'))),'vent_manual'] = 'Yes'\n",
        "\n"
      ],
      "execution_count": null,
      "outputs": []
    },
    {
      "cell_type": "code",
      "metadata": {
        "id": "ACCP9JTm2YIN"
      },
      "source": [
        "sum(scaled_data['vent_manual'].isnull())"
      ],
      "execution_count": null,
      "outputs": []
    },
    {
      "cell_type": "code",
      "metadata": {
        "id": "4oBK5GbR2YIN"
      },
      "source": [
        "px.line( y = scaled_data.vent_manual)"
      ],
      "execution_count": null,
      "outputs": []
    },
    {
      "cell_type": "markdown",
      "metadata": {
        "id": "JK5xC6192YIO"
      },
      "source": [
        "## NaN값 처리"
      ]
    },
    {
      "cell_type": "code",
      "metadata": {
        "id": "wPlPWoxf8lgu"
      },
      "source": [
        "# null값 설정 : 재실중, 환기X\r\n",
        "scaled_data['attend_manual'] = scaled_data['attend_manual'].fillna('Yes')\r\n",
        "scaled_data['vent_manual'] = scaled_data['vent_manual'].fillna('No')\r\n",
        "\r\n",
        "#null값 삭제\r\n",
        "# scaled_data = scaled_data.dropna(how='any',axis=0) "
      ],
      "execution_count": null,
      "outputs": []
    },
    {
      "cell_type": "code",
      "metadata": {
        "id": "I1XJ7iXHwsR9"
      },
      "source": [
        ""
      ],
      "execution_count": null,
      "outputs": []
    },
    {
      "cell_type": "code",
      "metadata": {
        "id": "ulmnKuEE2YIO"
      },
      "source": [
        "scaled_data"
      ],
      "execution_count": null,
      "outputs": []
    },
    {
      "cell_type": "markdown",
      "metadata": {
        "id": "xMp6gAul2YIP"
      },
      "source": [
        "## CSV저장"
      ]
    },
    {
      "cell_type": "code",
      "metadata": {
        "id": "ny2lfIIo-Gwt"
      },
      "source": [
        "ML_source = pd.get_dummies(scaled_data); \r\n",
        "# scaled_data_data.to_csv(nsc_1_1+'_labeled_scaled_data.csv',index=False)\r\n",
        "ML_source"
      ],
      "execution_count": null,
      "outputs": []
    },
    {
      "cell_type": "code",
      "metadata": {
        "id": "cQN6SkwM5Zr-"
      },
      "source": [
        "ML_source.sum()"
      ],
      "execution_count": null,
      "outputs": []
    },
    {
      "cell_type": "markdown",
      "metadata": {
        "id": "LIMRb1R5tJAt"
      },
      "source": [
        "#머신러닝 모델 생성"
      ]
    },
    {
      "cell_type": "markdown",
      "metadata": {
        "id": "YgV0Vw3cBBL0"
      },
      "source": [
        "## 모듈 불러오기"
      ]
    },
    {
      "cell_type": "code",
      "metadata": {
        "id": "oRQKRL2C_e9g"
      },
      "source": [
        "import tensorflow as tf"
      ],
      "execution_count": null,
      "outputs": []
    },
    {
      "cell_type": "markdown",
      "metadata": {
        "id": "4qYD_i8cB7cc"
      },
      "source": [
        "## 독립변수, 종속변수 분리"
      ]
    },
    {
      "cell_type": "code",
      "metadata": {
        "id": "Asz-YTV_B61R"
      },
      "source": [
        "독립 = ML_source[['CO2_outdoor', 'PM2.5_outdoor', 'PM10_outdoor', 'CO2_classroom',\r\n",
        "       'PM2.5_classroom', 'PM10_classroom', 'CO2_classroom_change',\r\n",
        "       'PM2.5_classroom_change', 'PM10_classroom_change']]\r\n",
        "재실여부 = ML_source[['attend_manual_No', 'attend_manual_Yes']]\r\n",
        "환기여부 = ML_source[['vent_manual_No', 'vent_manual_Yes']]\r\n",
        "print(독립.shape,재실여부.shape, 환기여부.shape)"
      ],
      "execution_count": null,
      "outputs": []
    },
    {
      "cell_type": "markdown",
      "metadata": {
        "id": "sXr1BjUDuDd5"
      },
      "source": [
        "## 레이어 생성"
      ]
    },
    {
      "cell_type": "code",
      "metadata": {
        "id": "Ed3R6leaCNS5"
      },
      "source": [
        "attendX = tf.keras.layers.Input(shape=[9])\r\n",
        "\r\n",
        "attendH = tf.keras.layers.Dense(7)(attendX)\r\n",
        "attendH = tf.keras.layers.BatchNormalization()(attendH)\r\n",
        "attendH = tf.keras.layers.Activation('relu')(attendH)\r\n",
        "\r\n",
        "attendY = tf.keras.layers.Dense(2, activation='softmax')(attendH)\r\n",
        "\r\n",
        "attend_model = tf.keras.models.Model(attendX, attendY)\r\n",
        "attend_model.compile(loss='categorical_crossentropy',metrics='accuracy')"
      ],
      "execution_count": null,
      "outputs": []
    },
    {
      "cell_type": "code",
      "metadata": {
        "id": "WH38p1b08GAn"
      },
      "source": [
        "ventX = tf.keras.layers.Input(shape=[9])\r\n",
        "\r\n",
        "ventH = tf.keras.layers.Dense(7)(ventX)\r\n",
        "ventH = tf.keras.layers.BatchNormalization()(ventH)\r\n",
        "ventH = tf.keras.layers.Activation('relu')(ventH)\r\n",
        "\r\n",
        "ventY = tf.keras.layers.Dense(2, activation='softmax')(ventH)\r\n",
        "\r\n",
        "vent_model = tf.keras.models.Model(ventX, ventY)\r\n",
        "vent_model.compile(loss='categorical_crossentropy',metrics='accuracy')"
      ],
      "execution_count": null,
      "outputs": []
    },
    {
      "cell_type": "markdown",
      "metadata": {
        "id": "m8IJVaCiuE4Y"
      },
      "source": [
        "## 모델 피팅"
      ]
    },
    {
      "cell_type": "code",
      "metadata": {
        "id": "xRdFWeRYDJua"
      },
      "source": [
        "attend_model.fit(독립, 재실여부, epochs=100 ) #verbose = 1"
      ],
      "execution_count": null,
      "outputs": []
    },
    {
      "cell_type": "code",
      "metadata": {
        "id": "1fn2MlF5vaP1"
      },
      "source": [
        "vent_model.fit(독립, 환기여부, epochs=100 ) #verbose = 1"
      ],
      "execution_count": null,
      "outputs": []
    },
    {
      "cell_type": "markdown",
      "metadata": {
        "id": "PycXV_XcuIcc"
      },
      "source": [
        "## 모델 저장\r\n"
      ]
    },
    {
      "cell_type": "code",
      "metadata": {
        "id": "GeNiHHt0t4wD"
      },
      "source": [
        "attend_model.save('nsc_1-1_based_attendModel.h5')\r\n",
        "vent_model.save('nsc_1-1_based_ventModel.h5')"
      ],
      "execution_count": null,
      "outputs": []
    }
  ]
}